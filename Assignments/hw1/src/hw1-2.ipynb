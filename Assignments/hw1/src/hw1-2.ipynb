{
 "cells": [
  {
   "cell_type": "markdown",
   "metadata": {},
   "source": [
    "# CSE688: Practical and Application of Machine Learning - Spring 2021\n",
    "## Assignment 1-2"
   ]
  },
  {
   "cell_type": "markdown",
   "metadata": {},
   "source": [
    "\n",
    "| Type       | Kernel size(or pooling size) | Output channel | Stride | Padding  |\n",
    "|------------|------------------------------|----------------|--------|----------|\n",
    "| Conv2D     | 3x3                          | 32             | 1x1    | The same |\n",
    "| ReLU       |                              |                |        |          |\n",
    "| MaxPooling | 2x2                          | --             | 2x2    | The same |\n",
    "| Dropout    | 25%                          |                |        |          |\n",
    "| Conv2D     | 3x3                          | 64             | 1x2    | The same |\n",
    "| ReLU       |                              |                |        |          |\n",
    "| MaxPooling | 2x2                          | --             | 2x2    | The same |\n",
    "| Dropout    | 25%                          |                |        |          |\n",
    "| Flaten     |                              |                |        |          |\n",
    "| Dense      | Output size = 1024           |                |        |          |\n",
    "| Dropout    | 25%                          |                |        |          |\n",
    "| Dense      | Output size = 1024           |                |        |          |\n",
    "| Dropout    | 25%                          |                |        |          |\n",
    "| Dense      | Output size = 10             |                |        |          |\n"
   ]
  },
  {
   "cell_type": "code",
   "execution_count": null,
   "metadata": {},
   "outputs": [],
   "source": []
  }
 ],
 "metadata": {
  "kernelspec": {
   "display_name": "Python 3",
   "language": "python",
   "name": "python3"
  },
  "language_info": {
   "codemirror_mode": {
    "name": "ipython",
    "version": 3
   },
   "file_extension": ".py",
   "mimetype": "text/x-python",
   "name": "python",
   "nbconvert_exporter": "python",
   "pygments_lexer": "ipython3",
   "version": "3.6.8"
  }
 },
 "nbformat": 4,
 "nbformat_minor": 4
}
