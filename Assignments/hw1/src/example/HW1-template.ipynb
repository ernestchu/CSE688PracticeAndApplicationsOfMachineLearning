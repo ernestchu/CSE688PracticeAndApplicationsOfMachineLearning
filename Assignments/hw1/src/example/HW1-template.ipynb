{
 "cells": [
  {
   "cell_type": "markdown",
   "metadata": {},
   "source": [
    "（一）\n",
    "(a)"
   ]
  },
  {
   "cell_type": "code",
   "execution_count": 1,
   "metadata": {},
   "outputs": [],
   "source": [
    "#imort需要的模組、工具\n",
    "\n",
    "#讀入csv檔並整理成模型訓練的格式\n",
    "\n",
    "#用tensorflow2建立模型並訓練\n",
    "\n",
    "#將csv檔資料x輸入模型產生的y與csv檔中的y計算MSE，並用print指令印出MSE得到的值。"
   ]
  },
  {
   "cell_type": "markdown",
   "metadata": {},
   "source": [
    "(b)(i)"
   ]
  },
  {
   "cell_type": "code",
   "execution_count": 2,
   "metadata": {},
   "outputs": [
    {
     "name": "stdout",
     "output_type": "stream",
     "text": [
      "w0 = ..., w1 = ..., ...\n"
     ]
    }
   ],
   "source": [
    "#訓練出一個多項次回歸方程式模型\n",
    "\n",
    "print(\"w0 = ..., w1 = ..., ...\")"
   ]
  },
  {
   "cell_type": "markdown",
   "metadata": {},
   "source": [
    "(ii)"
   ]
  },
  {
   "cell_type": "code",
   "execution_count": 3,
   "metadata": {},
   "outputs": [
    {
     "name": "stdout",
     "output_type": "stream",
     "text": [
      "f'(0.7) = ..., f'(0.2) = ..., f'(-0.5) = ...\n"
     ]
    }
   ],
   "source": [
    "#計算f'(0.7), f'(0.2), f'(-0.5)\n",
    "\n",
    "print(\"f'(0.7) = ..., f'(0.2) = ..., f'(-0.5) = ...\")"
   ]
  },
  {
   "cell_type": "markdown",
   "metadata": {},
   "source": [
    "（二）"
   ]
  },
  {
   "cell_type": "code",
   "execution_count": 4,
   "metadata": {},
   "outputs": [],
   "source": [
    "#讀入Cifar-10的訓練集以及測試集\n",
    "\n",
    "#利用tensorflow2建立模型並訓練\n",
    "\n",
    "#計算(b)題目中要求的資訊\n",
    "\n",
    "#調整架構並重新訓練"
   ]
  },
  {
   "cell_type": "markdown",
   "metadata": {},
   "source": [
    "(a)...\n",
    "(b)...\n",
    "(c)..."
   ]
  }
 ],
 "metadata": {
  "kernelspec": {
   "display_name": "Python 3",
   "language": "python",
   "name": "python3"
  },
  "language_info": {
   "codemirror_mode": {
    "name": "ipython",
    "version": 3
   },
   "file_extension": ".py",
   "mimetype": "text/x-python",
   "name": "python",
   "nbconvert_exporter": "python",
   "pygments_lexer": "ipython3",
   "version": "3.6.8"
  }
 },
 "nbformat": 4,
 "nbformat_minor": 4
}
