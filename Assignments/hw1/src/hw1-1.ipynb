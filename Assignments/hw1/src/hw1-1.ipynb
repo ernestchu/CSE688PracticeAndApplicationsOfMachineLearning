{
 "cells": [
  {
   "cell_type": "markdown",
   "metadata": {},
   "source": [
    "# CSE688: Practical and Application of Machine Learning - Spring 2021\n",
    "## Assignment 1-1"
   ]
  },
  {
   "cell_type": "markdown",
   "metadata": {},
   "source": [
    "#### (a) Implement a multi-layer neural networks to simulate a function $y = f(x)$ to fit the data given in `HW1-1.csv`. For every input $x$, give an output $y$. The mean-square error between the output and ground truth has to be less than 0.1"
   ]
  },
  {
   "cell_type": "code",
   "execution_count": 1,
   "metadata": {},
   "outputs": [
    {
     "data": {
      "image/png": "[encoded data removed]",
      "text/plain": [
       "<Figure size 432x288 with 1 Axes>"
      ]
     },
     "metadata": {
      "needs_background": "light"
     },
     "output_type": "display_data"
    }
   ],
   "source": [
    "import tensorflow as tf\n",
    "import numpy as np\n",
    "import matplotlib.pyplot as plt\n",
    "import csv\n",
    "\n",
    "# Prepare dataset\n",
    "X_raw = []\n",
    "Y_raw = []\n",
    "with open('HW1-1.csv', newline='') as f:\n",
    "    reader = csv.DictReader(f)\n",
    "    for row in reader:\n",
    "        X_raw.append(float(row['x']))\n",
    "        Y_raw.append(float(row['y']))\n",
    "        \n",
    "plt.scatter(X_raw, Y_raw)\n",
    "\n",
    "X = np.array(X_raw).reshape(-1, 1)\n",
    "Y = np.array(Y_raw).reshape(-1, 1)\n",
    "dataset = tf.data.Dataset.from_tensor_slices((\n",
    "    tf.cast(X, tf.float32),\n",
    "    tf.cast(Y, tf.float32)\n",
    ")).shuffle(100).batch(20)"
   ]
  },
  {
   "cell_type": "markdown",
   "metadata": {},
   "source": [
    "### It's polynomial!"
   ]
  },
  {
   "cell_type": "code",
   "execution_count": 2,
   "metadata": {},
   "outputs": [
    {
     "name": "stdout",
     "output_type": "stream",
     "text": [
      "Model: \"NN\"\n",
      "_________________________________________________________________\n",
      "Layer (type)                 Output Shape              Param #   \n",
      "=================================================================\n",
      "input (InputLayer)           [(None, 1)]               0         \n",
      "_________________________________________________________________\n",
      "layer1 (Dense)               (None, 100)               200       \n",
      "_________________________________________________________________\n",
      "layer2 (Dense)               (None, 100)               10100     \n",
      "_________________________________________________________________\n",
      "output (Dense)               (None, 1)                 101       \n",
      "=================================================================\n",
      "Total params: 10,401\n",
      "Trainable params: 10,401\n",
      "Non-trainable params: 0\n",
      "_________________________________________________________________\n"
     ]
    }
   ],
   "source": [
    "# Build model\n",
    "class NN(tf.keras.Model):\n",
    "    def __init__(self):\n",
    "        super(NN, self).__init__(name='NN')\n",
    "        self.fc = [\n",
    "            tf.keras.layers.Dense(100, activation=\"tanh\", name='layer1'),\n",
    "            tf.keras.layers.Dense(100, activation=\"tanh\", name='layer2'),\n",
    "            tf.keras.layers.Dense(1, name='output')\n",
    "        ]\n",
    "    def call(self, x):\n",
    "        for layer in self.fc:\n",
    "            x = layer(x)\n",
    "        return x\n",
    "    def summary(self): # a hack in order to properly output summary\n",
    "        x = tf.keras.Input(shape=(1), name='input')\n",
    "        tf.keras.Model(inputs=x, outputs=self.call(x), name='NN').summary()\n",
    "        \n",
    "model = NN()\n",
    "model.summary()\n",
    "\n",
    "def MSE(y_pred, y_true):\n",
    "    return tf.reduce_mean((y_pred - y_true)**2)\n",
    "optimizer = tf.keras.optimizers.Adam()"
   ]
  },
  {
   "cell_type": "code",
   "execution_count": 3,
   "metadata": {},
   "outputs": [],
   "source": [
    "def train(model, X, Y):\n",
    "    with tf.GradientTape() as tape:\n",
    "        out = model(X)\n",
    "        loss = MSE(out, Y)\n",
    "    grads = tape.gradient(loss, model.trainable_variables)\n",
    "    optimizer.apply_gradients(zip(grads, model.trainable_variables))\n",
    "    return loss"
   ]
  },
  {
   "cell_type": "code",
   "execution_count": 4,
   "metadata": {},
   "outputs": [
    {
     "name": "stdout",
     "output_type": "stream",
     "text": [
      "Loss at epoch 000: 0.097\n",
      "Loss at epoch 030: 0.014\n",
      "Loss at epoch 060: 0.014\n",
      "Loss at epoch 090: 0.014\n",
      "Loss at epoch 120: 0.013\n",
      "Loss at epoch 150: 0.011\n",
      "Loss at epoch 180: 0.006\n",
      "Loss at epoch 210: 0.001\n",
      "Loss at epoch 240: 0.001\n",
      "Loss at epoch 270: 0.001\n"
     ]
    }
   ],
   "source": [
    "for epoch in range(300):\n",
    "    for X, Y in dataset:\n",
    "        loss = train(model, X, Y)\n",
    "    if epoch%30 == 0:\n",
    "        print(\"Loss at epoch {:03d}: {:.3f}\".format(epoch, loss))"
   ]
  },
  {
   "cell_type": "markdown",
   "metadata": {},
   "source": [
    "### Inference"
   ]
  },
  {
   "cell_type": "code",
   "execution_count": 5,
   "metadata": {},
   "outputs": [
    {
     "data": {
      "image/png": "[encoded data removed]",
      "text/plain": [
       "<Figure size 432x288 with 1 Axes>"
      ]
     },
     "metadata": {
      "needs_background": "light"
     },
     "output_type": "display_data"
    }
   ],
   "source": [
    "def inference(model):\n",
    "    X_test = np.linspace(-.75, 1, 100).reshape(-1, 1).astype(np.float32)\n",
    "    out = model(X_test).numpy()  \n",
    "    plt.scatter(X_test.reshape(-1), out.reshape(-1))\n",
    "inference(model)"
   ]
  },
  {
   "cell_type": "markdown",
   "metadata": {},
   "source": [
    "#### (b) Implement a polynomial function $y = w_mx^m + \\cdots + w_1x^1 + w_0$ to fit the data given in `HW1-1.csv`. For every input $x$, give an output $y$."
   ]
  },
  {
   "cell_type": "code",
   "execution_count": 6,
   "metadata": {},
   "outputs": [],
   "source": [
    "# Build model\n",
    "class Poly(tf.keras.Model):\n",
    "    def __init__(self):\n",
    "        super(Poly, self).__init__(name='Poly')\n",
    "        self.coef = {\n",
    "            'w3': tf.Variable(1., name='w3'),\n",
    "            'w2': tf.Variable(-.2, name='w2'),\n",
    "            'w1': tf.Variable(-.6, name='w1'),\n",
    "            'w0': tf.Variable(-.3, name='w0')\n",
    "        }\n",
    "    def call(self, x):\n",
    "        out = self.coef['w0']\n",
    "        for i in range(1, 4):\n",
    "            out = out + x**i * self.coef['w'+str(i)]\n",
    "        return out\n",
    "        \n",
    "model_poly = Poly()"
   ]
  },
  {
   "cell_type": "code",
   "execution_count": 7,
   "metadata": {},
   "outputs": [
    {
     "name": "stdout",
     "output_type": "stream",
     "text": [
      "Loss at epoch 000: 0.005\n",
      "Loss at epoch 030: 0.000\n",
      "Loss at epoch 060: 0.000\n",
      "Loss at epoch 090: 0.000\n",
      "Loss at epoch 120: 0.000\n",
      "Loss at epoch 150: 0.000\n",
      "Loss at epoch 180: 0.000\n",
      "Loss at epoch 210: 0.000\n",
      "Loss at epoch 240: 0.000\n",
      "Loss at epoch 270: 0.000\n"
     ]
    }
   ],
   "source": [
    "# train\n",
    "X = np.array(X_raw).reshape(-1, 1)\n",
    "Y = np.array(Y_raw).reshape(-1, 1)\n",
    "\n",
    "for epoch in range(300):\n",
    "    loss = train(model_poly, X, Y)\n",
    "    if epoch%30 == 0:\n",
    "        print(\"Loss at epoch {:03d}: {:.3f}\".format(epoch, loss))"
   ]
  },
  {
   "cell_type": "code",
   "execution_count": 8,
   "metadata": {},
   "outputs": [
    {
     "data": {
      "image/png": "[encoded data removed]",
      "text/plain": [
       "<Figure size 432x288 with 1 Axes>"
      ]
     },
     "metadata": {
      "needs_background": "light"
     },
     "output_type": "display_data"
    }
   ],
   "source": [
    "inference(model_poly)"
   ]
  },
  {
   "cell_type": "markdown",
   "metadata": {},
   "source": [
    "(i) Print the coefficients $w_mx^m, \\cdots, w_0$"
   ]
  },
  {
   "cell_type": "code",
   "execution_count": 9,
   "metadata": {},
   "outputs": [
    {
     "name": "stdout",
     "output_type": "stream",
     "text": [
      "w3 =  1.01, w2 = -0.26, w1 = -0.51, w0 = -0.25\n"
     ]
    }
   ],
   "source": [
    "print(\n",
    "    f\"w3 = {model_poly.coef['w3'].numpy(): .2f}, \"\n",
    "    f\"w2 = {model_poly.coef['w2'].numpy(): .2f}, \"\n",
    "    f\"w1 = {model_poly.coef['w1'].numpy(): .2f}, \"\n",
    "    f\"w0 = {model_poly.coef['w0'].numpy(): .2f}\"\n",
    ")"
   ]
  },
  {
   "cell_type": "markdown",
   "metadata": {},
   "source": [
    "(ii) Calculate the gradients: $f'(0.7), f'(0.2), f'(-0.5)$."
   ]
  },
  {
   "cell_type": "code",
   "execution_count": 10,
   "metadata": {},
   "outputs": [
    {
     "name": "stdout",
     "output_type": "stream",
     "text": [
      "f'(0.7) =  0.63, f'(0.2) = -0.49, f'(-0.5) =  0.51\n"
     ]
    }
   ],
   "source": [
    "def calGrad(f, x):\n",
    "    x = tf.Variable(x)\n",
    "    with tf.GradientTape() as tape:\n",
    "        y = f(x)\n",
    "    return tape.gradient(y, x)\n",
    "\n",
    "print(\n",
    "    f\"f'(0.7) = {calGrad(model_poly, 0.7).numpy(): .2f}, \"\n",
    "    f\"f'(0.2) = {calGrad(model_poly, 0.2).numpy(): .2f}, \"\n",
    "    f\"f'(-0.5) = {calGrad(model_poly, -0.5).numpy(): .2f}\"\n",
    ")"
   ]
  },
  {
   "cell_type": "code",
   "execution_count": null,
   "metadata": {},
   "outputs": [],
   "source": []
  }
 ],
 "metadata": {
  "kernelspec": {
   "display_name": "Python 3",
   "language": "python",
   "name": "python3"
  },
  "language_info": {
   "codemirror_mode": {
    "name": "ipython",
    "version": 3
   },
   "file_extension": ".py",
   "mimetype": "text/x-python",
   "name": "python",
   "nbconvert_exporter": "python",
   "pygments_lexer": "ipython3",
   "version": "3.6.8"
  }
 },
 "nbformat": 4,
 "nbformat_minor": 4
}
