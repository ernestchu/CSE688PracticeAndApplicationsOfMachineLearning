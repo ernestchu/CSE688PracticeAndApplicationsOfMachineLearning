{
 "cells": [
  {
   "cell_type": "markdown",
   "metadata": {},
   "source": [
    "# CSE688: Practical and Application of Machine Learning - Spring 2021\n",
    "## Assignment 1"
   ]
  },
  {
   "cell_type": "markdown",
   "metadata": {},
   "source": [
    "#### Implement a multi-layer neural networks to simulate a function $y = f(x)$ to fit the data given in `HW1-1.csv`. For every input $x$, give an output $y$. The mean-square error between the output and ground truth has to be less than 0.1"
   ]
  },
  {
   "cell_type": "code",
   "execution_count": 1,
   "metadata": {},
   "outputs": [
    {
     "data": {
      "image/png": "[encoded data removed]",
      "text/plain": [
       "<Figure size 432x288 with 1 Axes>"
      ]
     },
     "metadata": {
      "needs_background": "light"
     },
     "output_type": "display_data"
    }
   ],
   "source": [
    "import tensorflow as tf\n",
    "import numpy as np\n",
    "import matplotlib.pyplot as plt\n",
    "import csv\n",
    "\n",
    "# Prepare dataset\n",
    "X = []\n",
    "Y = []\n",
    "with open('HW1-1.csv', newline='') as f:\n",
    "    reader = csv.DictReader(f)\n",
    "    for row in reader:\n",
    "        X.append(float(row['x']))\n",
    "        Y.append(float(row['y']))\n",
    "        \n",
    "plt.scatter(X, Y)\n",
    "\n",
    "X = np.array(X).reshape(-1, 1)\n",
    "Y = np.array(Y).reshape(-1, 1)\n",
    "dataset = tf.data.Dataset.from_tensor_slices((\n",
    "    tf.cast(X, tf.float32),\n",
    "    tf.cast(Y, tf.float32)\n",
    ")).shuffle(100).batch(20)"
   ]
  },
  {
   "cell_type": "markdown",
   "metadata": {},
   "source": [
    "### It's polynomial!"
   ]
  },
  {
   "cell_type": "code",
   "execution_count": 2,
   "metadata": {},
   "outputs": [
    {
     "name": "stdout",
     "output_type": "stream",
     "text": [
      "Model: \"NN\"\n",
      "_________________________________________________________________\n",
      "Layer (type)                 Output Shape              Param #   \n",
      "=================================================================\n",
      "input (InputLayer)           [(None, 1)]               0         \n",
      "_________________________________________________________________\n",
      "layer1 (Dense)               (None, 100)               200       \n",
      "_________________________________________________________________\n",
      "layer2 (Dense)               (None, 100)               10100     \n",
      "_________________________________________________________________\n",
      "output (Dense)               (None, 1)                 101       \n",
      "=================================================================\n",
      "Total params: 10,401\n",
      "Trainable params: 10,401\n",
      "Non-trainable params: 0\n",
      "_________________________________________________________________\n"
     ]
    }
   ],
   "source": [
    "# Build model\n",
    "class NN(tf.keras.Model):\n",
    "    def __init__(self):\n",
    "        super(NN, self).__init__(name='NN')\n",
    "        self.fc = [\n",
    "            tf.keras.layers.Dense(100, activation=\"tanh\", name='layer1'),\n",
    "            tf.keras.layers.Dense(100, activation=\"tanh\", name='layer2'),\n",
    "            tf.keras.layers.Dense(1, name='output')\n",
    "        ]\n",
    "    def call(self, x):\n",
    "        for layer in self.fc:\n",
    "            x = layer(x)\n",
    "        return x\n",
    "    def summary(self): # a hack in order to properly output summary\n",
    "        x = tf.keras.Input(shape=(1), name='input')\n",
    "        tf.keras.Model(inputs=x, outputs=self.call(x), name='NN').summary()\n",
    "        \n",
    "model = NN()\n",
    "model.summary()\n",
    "\n",
    "def MSE(y_pred, y_true):\n",
    "    return tf.reduce_mean((y_pred - y_true)**2)\n",
    "optimizer = tf.keras.optimizers.Adam()"
   ]
  },
  {
   "cell_type": "code",
   "execution_count": 3,
   "metadata": {},
   "outputs": [],
   "source": [
    "def train(X, Y):\n",
    "    with tf.GradientTape() as tape:\n",
    "        out = model(X)\n",
    "        loss = MSE(out, Y)\n",
    "    grads = tape.gradient(loss, model.trainable_variables)\n",
    "    optimizer.apply_gradients(zip(grads, model.trainable_variables))\n",
    "    return loss"
   ]
  },
  {
   "cell_type": "code",
   "execution_count": 4,
   "metadata": {},
   "outputs": [
    {
     "name": "stdout",
     "output_type": "stream",
     "text": [
      "Loss at epoch 000: 0.093\n",
      "Loss at epoch 020: 0.019\n",
      "Loss at epoch 040: 0.014\n",
      "Loss at epoch 060: 0.014\n",
      "Loss at epoch 080: 0.014\n",
      "Loss at epoch 100: 0.013\n",
      "Loss at epoch 120: 0.013\n",
      "Loss at epoch 140: 0.011\n",
      "Loss at epoch 160: 0.009\n",
      "Loss at epoch 180: 0.006\n"
     ]
    }
   ],
   "source": [
    "for epoch in range(200):\n",
    "    for X, Y in dataset:\n",
    "        loss = train(X, Y)\n",
    "    if epoch%20 == 0:\n",
    "        print(\"Loss at epoch {:03d}: {:.3f}\".format(epoch, loss))"
   ]
  },
  {
   "cell_type": "markdown",
   "metadata": {},
   "source": [
    "### Inference"
   ]
  },
  {
   "cell_type": "code",
   "execution_count": 5,
   "metadata": {},
   "outputs": [
    {
     "data": {
      "text/plain": [
       "<matplotlib.collections.PathCollection at 0x7f703802c080>"
      ]
     },
     "execution_count": 5,
     "metadata": {},
     "output_type": "execute_result"
    },
    {
     "data": {
      "image/png": "[encoded data removed]",
      "text/plain": [
       "<Figure size 432x288 with 1 Axes>"
      ]
     },
     "metadata": {
      "needs_background": "light"
     },
     "output_type": "display_data"
    }
   ],
   "source": [
    "X_test = np.linspace(-1, 1, 100).reshape(-1, 1).astype(np.float32)\n",
    "out = model(X_test).numpy()  \n",
    "plt.scatter(X_test.reshape(-1), out.reshape(-1))"
   ]
  },
  {
   "cell_type": "code",
   "execution_count": null,
   "metadata": {},
   "outputs": [],
   "source": []
  }
 ],
 "metadata": {
  "kernelspec": {
   "display_name": "Python 3",
   "language": "python",
   "name": "python3"
  },
  "language_info": {
   "codemirror_mode": {
    "name": "ipython",
    "version": 3
   },
   "file_extension": ".py",
   "mimetype": "text/x-python",
   "name": "python",
   "nbconvert_exporter": "python",
   "pygments_lexer": "ipython3",
   "version": "3.6.8"
  }
 },
 "nbformat": 4,
 "nbformat_minor": 4
}
