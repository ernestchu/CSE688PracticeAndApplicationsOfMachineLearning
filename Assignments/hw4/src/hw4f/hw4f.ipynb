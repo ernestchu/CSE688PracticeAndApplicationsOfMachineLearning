{
 "cells": [
  {
   "cell_type": "markdown",
   "metadata": {},
   "source": [
    "# CSE688: Practical and Application of Machine Learning - Spring 2021\n",
    "## Assignment 4a\n",
    "### Authors\n",
    "\n",
    "- B073040018 朱劭璿\n",
    "- B072010029 陳居廷"
   ]
  },
  {
   "cell_type": "markdown",
   "metadata": {},
   "source": [
    "#### (f) Anomaly detection on credit card fraud"
   ]
  },
  {
   "cell_type": "code",
   "execution_count": 1,
   "metadata": {},
   "outputs": [
    {
     "name": "stdout",
     "output_type": "stream",
     "text": [
      "Data shape: (284807, 29)\n"
     ]
    }
   ],
   "source": [
    "import tensorflow as tf\n",
    "import numpy as np\n",
    "\n",
    "data = []\n",
    "labels = []\n",
    "\n",
    "with open('creditcardfraud_normalised.csv', 'r') as f:\n",
    "    f.readline() # drop csv field names\n",
    "    lines = f.readlines()\n",
    "for l in lines:\n",
    "    l = l[:-1].split(',')\n",
    "    data.append([float(c) for c in l[:-1]])\n",
    "    labels.append(int(l[-1]))\n",
    "    \n",
    "data   = np.array(data)\n",
    "labels = np.array(labels)\n",
    "\n",
    "print(f'Data shape: {data.shape}')"
   ]
  },
  {
   "cell_type": "code",
   "execution_count": 2,
   "metadata": {},
   "outputs": [
    {
     "name": "stdout",
     "output_type": "stream",
     "text": [
      "Number of normal   activities: 284315\n",
      "Number of abnormal activities: 492\n"
     ]
    }
   ],
   "source": [
    "normal_indices   = (labels == 0)\n",
    "normal_data      = data[normal_indices]\n",
    "normal_labels    = labels[normal_indices]\n",
    "abnormal_indices = (labels == 1)\n",
    "abnormal_data    = data[abnormal_indices]\n",
    "abnormal_labels  = labels[abnormal_indices]\n",
    "\n",
    "print(f'Number of normal   activities: {len(normal_labels)}')\n",
    "print(f'Number of abnormal activities: {len(abnormal_labels)}')"
   ]
  },
  {
   "cell_type": "code",
   "execution_count": 3,
   "metadata": {},
   "outputs": [
    {
     "name": "stdout",
     "output_type": "stream",
     "text": [
      "Number of training   samples: 283815\n",
      "Number of validation smaples: 496\n",
      "Number of testing    smaples: 496\n"
     ]
    }
   ],
   "source": [
    "normal_shuffler = np.random.permutation(len(normal_labels))\n",
    "train_splitter  = normal_shuffler[:-500]\n",
    "val_splitter    = normal_shuffler[-500:-250]\n",
    "test_splitter   = normal_shuffler[-250:]\n",
    "\n",
    "train_data   = normal_data[train_splitter]\n",
    "train_labels = normal_labels[train_splitter]\n",
    "val_data     = normal_data[val_splitter]\n",
    "val_labels   = normal_labels[val_splitter]\n",
    "test_data    = normal_data[test_splitter]\n",
    "test_labels  = normal_labels[test_splitter]\n",
    "\n",
    "abnormal_shuffler = np.random.permutation(len(abnormal_labels))\n",
    "val_splitter      = abnormal_shuffler[:int(len(abnormal_labels)/2)]\n",
    "test_splitter     = abnormal_shuffler[int(len(abnormal_labels)/2):]\n",
    "\n",
    "val_data     = np.concatenate((val_data,    abnormal_data[val_splitter]))\n",
    "val_labels   = np.concatenate((val_labels,  abnormal_labels[val_splitter]))\n",
    "test_data    = np.concatenate((test_data,   abnormal_data[test_splitter]))\n",
    "test_labels  = np.concatenate((test_labels, abnormal_labels[test_splitter]))\n",
    "\n",
    "print(f'Number of training   samples: {len(train_labels)}')\n",
    "print(f'Number of validation smaples: {len(val_labels)}')\n",
    "print(f'Number of testing    smaples: {len(test_labels)}')\n",
    "\n",
    "ds_train = tf.data.Dataset.from_tensor_slices((train_data, train_data)).cache().batch(128).prefetch(tf.data.experimental.AUTOTUNE)\n",
    "ds_val = tf.data.Dataset.from_tensor_slices((val_data, val_labels)).cache().batch(128).prefetch(tf.data.experimental.AUTOTUNE)\n",
    "ds_test = tf.data.Dataset.from_tensor_slices((test_data, test_labels)).cache().batch(128).prefetch(tf.data.experimental.AUTOTUNE)"
   ]
  },
  {
   "cell_type": "code",
   "execution_count": 4,
   "metadata": {},
   "outputs": [
    {
     "name": "stdout",
     "output_type": "stream",
     "text": [
      "Model: \"sequential\"\n",
      "_________________________________________________________________\n",
      "Layer (type)                 Output Shape              Param #   \n",
      "=================================================================\n",
      "dense (Dense)                (None, 16)                480       \n",
      "_________________________________________________________________\n",
      "dense_1 (Dense)              (None, 8)                 136       \n",
      "_________________________________________________________________\n",
      "dense_2 (Dense)              (None, 4)                 36        \n",
      "_________________________________________________________________\n",
      "dense_3 (Dense)              (None, 8)                 40        \n",
      "_________________________________________________________________\n",
      "dense_4 (Dense)              (None, 16)                144       \n",
      "_________________________________________________________________\n",
      "dense_5 (Dense)              (None, 29)                493       \n",
      "=================================================================\n",
      "Total params: 1,329\n",
      "Trainable params: 1,329\n",
      "Non-trainable params: 0\n",
      "_________________________________________________________________\n"
     ]
    }
   ],
   "source": [
    "autoencoder = tf.keras.models.Sequential([\n",
    "    tf.keras.layers.Dense(16, input_shape=(29,), activation='relu'),\n",
    "    tf.keras.layers.Dense(8, activation='relu'),\n",
    "    tf.keras.layers.Dense(4, activation='relu'),\n",
    "    tf.keras.layers.Dense(8, activation='relu'),\n",
    "    tf.keras.layers.Dense(16, activation='relu'),\n",
    "    tf.keras.layers.Dense(29),\n",
    "])\n",
    "autoencoder.summary()"
   ]
  },
  {
   "cell_type": "markdown",
   "metadata": {},
   "source": [
    "## Training"
   ]
  },
  {
   "cell_type": "code",
   "execution_count": 11,
   "metadata": {},
   "outputs": [],
   "source": [
    "LR = 1e-4\n",
    "ATH = 0.002 # anomaly confidence threshold"
   ]
  },
  {
   "cell_type": "code",
   "execution_count": 6,
   "metadata": {},
   "outputs": [],
   "source": [
    "class AnomalyValidation(tf.keras.callbacks.Callback):\n",
    "    def __init__(self, ATH, ds_val, log_step=1):\n",
    "        super(AnomalyValidation, self).__init__()\n",
    "        self.best_weights = None\n",
    "        self.best_acc = 0\n",
    "        self.ATH = ATH # anomaly confidence threshold\n",
    "        self.ds_val = ds_val\n",
    "        self.log_step = log_step\n",
    "    def on_epoch_end(self, epoch, logs=None):\n",
    "        global best_classifier, best_acc\n",
    "        num_correct = 0\n",
    "        num_total = 0\n",
    "        for data, label in self.ds_val:\n",
    "            num_correct += ((tf.keras.losses.MSE(self.model(data), data).numpy() > self.ATH) == label.numpy()).sum()\n",
    "            num_total += label.shape[0]\n",
    "        acc = num_correct/num_total\n",
    "        if acc > self.best_acc:\n",
    "            self.best_acc = acc\n",
    "            self.best_weights = self.model.get_weights()\n",
    "        if epoch % self.log_step != 0:\n",
    "            return\n",
    "        print(f\"Epoch {epoch+1: >2d}\", end='')\n",
    "        print(\n",
    "            f\"\\x1b[32m Train \\x1b[0m \"\n",
    "            f\"MSE: {logs['loss']: .6f}, \",\n",
    "            end = '\\t'\n",
    "        )\n",
    "        print(f'Anomaly detection accuracy:\\x1b[31m {acc: .5f}\\x1b[0m')\n",
    "    def on_train_end(self, logs=None):\n",
    "        self.model.set_weights(self.best_weights)"
   ]
  },
  {
   "cell_type": "code",
   "execution_count": 7,
   "metadata": {},
   "outputs": [
    {
     "name": "stdout",
     "output_type": "stream",
     "text": [
      "Epoch  1\u001b[32m Train \u001b[0m MSE:  0.070087, \tAnomaly detection accuracy:\u001b[31m  0.83669\u001b[0m\n",
      "Epoch  4\u001b[32m Train \u001b[0m MSE:  0.001562, \tAnomaly detection accuracy:\u001b[31m  0.84879\u001b[0m\n",
      "Epoch  7\u001b[32m Train \u001b[0m MSE:  0.001278, \tAnomaly detection accuracy:\u001b[31m  0.87702\u001b[0m\n",
      "Epoch 10\u001b[32m Train \u001b[0m MSE:  0.001230, \tAnomaly detection accuracy:\u001b[31m  0.88105\u001b[0m\n",
      "Epoch 13\u001b[32m Train \u001b[0m MSE:  0.001195, \tAnomaly detection accuracy:\u001b[31m  0.89516\u001b[0m\n",
      "Epoch 16\u001b[32m Train \u001b[0m MSE:  0.001152, \tAnomaly detection accuracy:\u001b[31m  0.88508\u001b[0m\n",
      "Epoch 19\u001b[32m Train \u001b[0m MSE:  0.001101, \tAnomaly detection accuracy:\u001b[31m  0.89113\u001b[0m\n",
      "Epoch 22\u001b[32m Train \u001b[0m MSE:  0.001071, \tAnomaly detection accuracy:\u001b[31m  0.89718\u001b[0m\n",
      "Epoch 25\u001b[32m Train \u001b[0m MSE:  0.001052, \tAnomaly detection accuracy:\u001b[31m  0.90121\u001b[0m\n",
      "Epoch 28\u001b[32m Train \u001b[0m MSE:  0.001039, \tAnomaly detection accuracy:\u001b[31m  0.89718\u001b[0m\n"
     ]
    }
   ],
   "source": [
    "autoencoder.compile(\n",
    "    optimizer=tf.keras.optimizers.Adam(learning_rate=LR),\n",
    "    loss='mse',\n",
    ")\n",
    "history = autoencoder.fit(\n",
    "    ds_train, \n",
    "    epochs=30,\n",
    "    verbose=0,\n",
    "    callbacks=[AnomalyValidation(ATH, ds_val, 3)]\n",
    ")\n",
    "# AnomalyValidation callback: Perform anomaly detect on validation dataset\n",
    "#                             Save the best weights and set the weight in training end"
   ]
  },
  {
   "cell_type": "markdown",
   "metadata": {},
   "source": [
    "## Inference"
   ]
  },
  {
   "cell_type": "code",
   "execution_count": 12,
   "metadata": {},
   "outputs": [
    {
     "name": "stdout",
     "output_type": "stream",
     "text": [
      "Anomaly detection accuracy:  0.91331\n"
     ]
    }
   ],
   "source": [
    "num_correct = 0\n",
    "num_total = 0\n",
    "for data, label in ds_test:\n",
    "    num_correct += ((tf.keras.losses.MSE(autoencoder(data), data).numpy() > ATH) == label.numpy()).sum()\n",
    "    num_total += label.shape[0]\n",
    "print(f'Anomaly detection accuracy: {num_correct/num_total: .5f}')"
   ]
  },
  {
   "cell_type": "code",
   "execution_count": null,
   "metadata": {},
   "outputs": [],
   "source": []
  }
 ],
 "metadata": {
  "kernelspec": {
   "display_name": "Python 3",
   "language": "python",
   "name": "python3"
  },
  "language_info": {
   "codemirror_mode": {
    "name": "ipython",
    "version": 3
   },
   "file_extension": ".py",
   "mimetype": "text/x-python",
   "name": "python",
   "nbconvert_exporter": "python",
   "pygments_lexer": "ipython3",
   "version": "3.6.8"
  }
 },
 "nbformat": 4,
 "nbformat_minor": 4
}
