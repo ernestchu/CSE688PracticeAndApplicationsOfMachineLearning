{
 "cells": [
  {
   "cell_type": "markdown",
   "metadata": {},
   "source": [
    "# CSE688: Practical and Application of Machine Learning - Spring 2021\n",
    "## Assignment 3-1\n",
    "### Authors\n",
    "\n",
    "- B073040018 朱劭璿\n",
    "- B072010029 陳居廷"
   ]
  },
  {
   "cell_type": "markdown",
   "metadata": {},
   "source": [
    "## Create Dataset"
   ]
  },
  {
   "cell_type": "code",
   "execution_count": 1,
   "metadata": {},
   "outputs": [
    {
     "data": {
      "text/plain": [
       "<matplotlib.image.AxesImage at 0x7fd5d0598be0>"
      ]
     },
     "execution_count": 1,
     "metadata": {},
     "output_type": "execute_result"
    },
    {
     "data": {
      "image/png": "[encoded data removed]",
      "text/plain": [
       "<Figure size 432x288 with 1 Axes>"
      ]
     },
     "metadata": {
      "needs_background": "light"
     },
     "output_type": "display_data"
    }
   ],
   "source": [
    "import tensorflow as tf\n",
    "import tensorflow_datasets as tfds\n",
    "import matplotlib.pyplot as plt\n",
    "\n",
    "(train_images, train_labels), (test_images, test_labels) = tf.keras.datasets.mnist.load_data()\n",
    "\n",
    "# Normalize pixel values to be between 0 and 1\n",
    "train_images, test_images = train_images / 255.0, test_images / 255.0\n",
    "\n",
    "ds_train = tf.data.Dataset.from_tensor_slices((train_images, train_images))\n",
    "ds_train = ds_train.cache()\n",
    "ds_train = ds_train.shuffle(train_images.shape[0])\n",
    "ds_train = ds_train.batch(128)\n",
    "ds_train = ds_train.prefetch(tf.data.experimental.AUTOTUNE)\n",
    "\n",
    "ds_test = tf.data.Dataset.from_tensor_slices((test_images, test_images))\n",
    "ds_test = ds_test.batch(128)\n",
    "ds_test = ds_test.cache()\n",
    "ds_test = ds_test.prefetch(tf.data.experimental.AUTOTUNE)\n",
    "\n",
    "plt.imshow(train_images[0], cmap='gray')"
   ]
  },
  {
   "cell_type": "markdown",
   "metadata": {},
   "source": [
    "## Model Design"
   ]
  },
  {
   "cell_type": "code",
   "execution_count": 2,
   "metadata": {},
   "outputs": [
    {
     "name": "stdout",
     "output_type": "stream",
     "text": [
      "Model: \"sequential\"\n",
      "_________________________________________________________________\n",
      "Layer (type)                 Output Shape              Param #   \n",
      "=================================================================\n",
      "reshape (Reshape)            (None, 28, 28)            0         \n",
      "_________________________________________________________________\n",
      "simple_rnn (SimpleRNN)       (None, 28, 14)            602       \n",
      "_________________________________________________________________\n",
      "simple_rnn_1 (SimpleRNN)     (None, 14)                406       \n",
      "_________________________________________________________________\n",
      "dense (Dense)                (None, 2)                 30        \n",
      "=================================================================\n",
      "Total params: 1,038\n",
      "Trainable params: 1,038\n",
      "Non-trainable params: 0\n",
      "_________________________________________________________________\n"
     ]
    }
   ],
   "source": [
    "def encoder(\n",
    "    h_dim,\n",
    "    timesteps,\n",
    "    data_dim,\n",
    "    out_dim,\n",
    "    rnn_layer=tf.keras.layers.SimpleRNN\n",
    "):\n",
    "    return tf.keras.Sequential([\n",
    "        tf.keras.layers.Reshape((timesteps, data_dim), input_shape=(timesteps, data_dim, 1)),\n",
    "        rnn_layer(h_dim, return_sequences=True),\n",
    "        rnn_layer(h_dim, go_backwards=True),\n",
    "        tf.keras.layers.Dense(out_dim)\n",
    "    ])\n",
    "\n",
    "test = encoder(14, 28, 28, 2)\n",
    "test.summary()"
   ]
  },
  {
   "cell_type": "code",
   "execution_count": 3,
   "metadata": {},
   "outputs": [
    {
     "name": "stdout",
     "output_type": "stream",
     "text": [
      "Model: \"sequential_1\"\n",
      "_________________________________________________________________\n",
      "Layer (type)                 Output Shape              Param #   \n",
      "=================================================================\n",
      "repeat_vector (RepeatVector) (None, 28, 2)             0         \n",
      "_________________________________________________________________\n",
      "simple_rnn_2 (SimpleRNN)     (None, 28, 14)            238       \n",
      "_________________________________________________________________\n",
      "simple_rnn_3 (SimpleRNN)     (None, 28, 14)            406       \n",
      "_________________________________________________________________\n",
      "dense_1 (Dense)              (None, 28, 28)            420       \n",
      "_________________________________________________________________\n",
      "reshape_1 (Reshape)          (None, 28, 28, 1)         0         \n",
      "=================================================================\n",
      "Total params: 1,064\n",
      "Trainable params: 1,064\n",
      "Non-trainable params: 0\n",
      "_________________________________________________________________\n"
     ]
    }
   ],
   "source": [
    "def decoder(\n",
    "    h_dim,\n",
    "    timesteps,\n",
    "    data_dim,\n",
    "    out_dim,\n",
    "    rnn_layer=tf.keras.layers.SimpleRNN\n",
    "):\n",
    "    return tf.keras.Sequential([\n",
    "        tf.keras.layers.RepeatVector(timesteps, input_shape=(data_dim,)),\n",
    "        rnn_layer(h_dim, return_sequences=True),\n",
    "        rnn_layer(h_dim, return_sequences=True, go_backwards=True),\n",
    "        tf.keras.layers.Dense(out_dim),\n",
    "        tf.keras.layers.Reshape((timesteps, out_dim, 1))\n",
    "    ])\n",
    "\n",
    "test = decoder(14, 28, 2, 28)\n",
    "test.summary()"
   ]
  },
  {
   "cell_type": "markdown",
   "metadata": {},
   "source": [
    "## Simple RNN"
   ]
  },
  {
   "cell_type": "code",
   "execution_count": 4,
   "metadata": {},
   "outputs": [
    {
     "name": "stdout",
     "output_type": "stream",
     "text": [
      "Epoch 1/20\n",
      "469/469 [==============================] - 42s 89ms/step - loss: 0.0751 - val_loss: 0.0655\n",
      "Epoch 2/20\n",
      "469/469 [==============================] - 41s 86ms/step - loss: 0.0633 - val_loss: 0.0617\n",
      "Epoch 3/20\n",
      "469/469 [==============================] - 41s 88ms/step - loss: 0.0610 - val_loss: 0.0602\n",
      "Epoch 4/20\n",
      "469/469 [==============================] - 42s 89ms/step - loss: 0.0599 - val_loss: 0.0595\n",
      "Epoch 5/20\n",
      "469/469 [==============================] - 41s 87ms/step - loss: 0.0591 - val_loss: 0.0585\n",
      "Epoch 6/20\n",
      "469/469 [==============================] - 41s 87ms/step - loss: 0.0584 - val_loss: 0.0579\n",
      "Epoch 7/20\n",
      "469/469 [==============================] - 40s 84ms/step - loss: 0.0577 - val_loss: 0.0572\n",
      "Epoch 8/20\n",
      "469/469 [==============================] - 41s 87ms/step - loss: 0.0569 - val_loss: 0.0568\n",
      "Epoch 9/20\n",
      "469/469 [==============================] - 41s 88ms/step - loss: 0.0563 - val_loss: 0.0561\n",
      "Epoch 10/20\n",
      "469/469 [==============================] - 40s 86ms/step - loss: 0.0558 - val_loss: 0.0554\n",
      "Epoch 11/20\n",
      "469/469 [==============================] - 40s 86ms/step - loss: 0.0552 - val_loss: 0.0551\n",
      "Epoch 12/20\n",
      "469/469 [==============================] - 41s 88ms/step - loss: 0.0547 - val_loss: 0.0540\n",
      "Epoch 13/20\n",
      "469/469 [==============================] - 42s 90ms/step - loss: 0.0543 - val_loss: 0.0540\n",
      "Epoch 14/20\n",
      "469/469 [==============================] - 42s 90ms/step - loss: 0.0540 - val_loss: 0.0535\n",
      "Epoch 15/20\n",
      "469/469 [==============================] - 41s 88ms/step - loss: 0.0537 - val_loss: 0.0532\n",
      "Epoch 16/20\n",
      "469/469 [==============================] - 41s 88ms/step - loss: 0.0535 - val_loss: 0.0532\n",
      "Epoch 17/20\n",
      "469/469 [==============================] - 42s 89ms/step - loss: 0.0533 - val_loss: 0.0530\n",
      "Epoch 18/20\n",
      "469/469 [==============================] - 42s 89ms/step - loss: 0.0531 - val_loss: 0.0529\n",
      "Epoch 19/20\n",
      "469/469 [==============================] - 42s 89ms/step - loss: 0.0529 - val_loss: 0.0523\n",
      "Epoch 20/20\n",
      "469/469 [==============================] - 41s 88ms/step - loss: 0.0527 - val_loss: 0.0523\n"
     ]
    },
    {
     "data": {
      "text/plain": [
       "<tensorflow.python.keras.callbacks.History at 0x7fd5d015c080>"
      ]
     },
     "execution_count": 4,
     "metadata": {},
     "output_type": "execute_result"
    }
   ],
   "source": [
    "rnn_layer = tf.keras.layers.SimpleRNN\n",
    "model_srnn = tf.keras.Sequential([\n",
    "    encoder(14, 28, 28, 2, rnn_layer),\n",
    "    decoder(14, 28, 2, 28, rnn_layer)\n",
    "])\n",
    "model_srnn.compile(\n",
    "    optimizer=tf.keras.optimizers.Adam(0.001),\n",
    "    loss='mse'\n",
    ")\n",
    "\n",
    "model_srnn.fit(\n",
    "    ds_train,\n",
    "    epochs=20,\n",
    "    validation_data=ds_test\n",
    ")"
   ]
  },
  {
   "cell_type": "code",
   "execution_count": 5,
   "metadata": {},
   "outputs": [
    {
     "name": "stdout",
     "output_type": "stream",
     "text": [
      "7\n"
     ]
    },
    {
     "data": {
      "text/plain": [
       "<matplotlib.image.AxesImage at 0x7fd5c8119588>"
      ]
     },
     "execution_count": 5,
     "metadata": {},
     "output_type": "execute_result"
    },
    {
     "data": {
      "image/png": "[encoded data removed]",
      "text/plain": [
       "<Figure size 432x288 with 1 Axes>"
      ]
     },
     "metadata": {
      "needs_background": "light"
     },
     "output_type": "display_data"
    }
   ],
   "source": [
    "index = 0\n",
    "gen = model_srnn(tf.expand_dims(test_images[index], axis=0))\n",
    "print(test_labels[index])\n",
    "plt.imshow(gen[0], cmap='gray')"
   ]
  },
  {
   "cell_type": "markdown",
   "metadata": {},
   "source": [
    "## LSTM"
   ]
  },
  {
   "cell_type": "code",
   "execution_count": 6,
   "metadata": {},
   "outputs": [
    {
     "name": "stdout",
     "output_type": "stream",
     "text": [
      "Epoch 1/20\n",
      "469/469 [==============================] - 10s 22ms/step - loss: 0.0671 - val_loss: 0.0597\n",
      "Epoch 2/20\n",
      "469/469 [==============================] - 9s 19ms/step - loss: 0.0583 - val_loss: 0.0569\n",
      "Epoch 3/20\n",
      "469/469 [==============================] - 9s 19ms/step - loss: 0.0558 - val_loss: 0.0544\n",
      "Epoch 4/20\n",
      "469/469 [==============================] - 8s 17ms/step - loss: 0.0536 - val_loss: 0.0524\n",
      "Epoch 5/20\n",
      "469/469 [==============================] - 9s 19ms/step - loss: 0.0519 - val_loss: 0.0509\n",
      "Epoch 6/20\n",
      "469/469 [==============================] - 9s 18ms/step - loss: 0.0506 - val_loss: 0.0500\n",
      "Epoch 7/20\n",
      "469/469 [==============================] - 9s 18ms/step - loss: 0.0495 - val_loss: 0.0488\n",
      "Epoch 8/20\n",
      "469/469 [==============================] - 8s 17ms/step - loss: 0.0489 - val_loss: 0.0480\n",
      "Epoch 9/20\n",
      "469/469 [==============================] - 8s 16ms/step - loss: 0.0482 - val_loss: 0.0483\n",
      "Epoch 10/20\n",
      "469/469 [==============================] - 9s 19ms/step - loss: 0.0476 - val_loss: 0.0470\n",
      "Epoch 11/20\n",
      "469/469 [==============================] - 9s 20ms/step - loss: 0.0472 - val_loss: 0.0466\n",
      "Epoch 12/20\n",
      "469/469 [==============================] - 9s 19ms/step - loss: 0.0469 - val_loss: 0.0465\n",
      "Epoch 13/20\n",
      "469/469 [==============================] - 9s 20ms/step - loss: 0.0466 - val_loss: 0.0462\n",
      "Epoch 14/20\n",
      "469/469 [==============================] - 9s 20ms/step - loss: 0.0464 - val_loss: 0.0459\n",
      "Epoch 15/20\n",
      "469/469 [==============================] - 9s 19ms/step - loss: 0.0461 - val_loss: 0.0455\n",
      "Epoch 16/20\n",
      "469/469 [==============================] - 9s 19ms/step - loss: 0.0461 - val_loss: 0.0458\n",
      "Epoch 17/20\n",
      "469/469 [==============================] - 9s 20ms/step - loss: 0.0457 - val_loss: 0.0457\n",
      "Epoch 18/20\n",
      "469/469 [==============================] - 9s 20ms/step - loss: 0.0456 - val_loss: 0.0451\n",
      "Epoch 19/20\n",
      "469/469 [==============================] - 9s 19ms/step - loss: 0.0452 - val_loss: 0.0447\n",
      "Epoch 20/20\n",
      "469/469 [==============================] - 8s 17ms/step - loss: 0.0450 - val_loss: 0.0451\n"
     ]
    },
    {
     "data": {
      "text/plain": [
       "<tensorflow.python.keras.callbacks.History at 0x7fd5c0242710>"
      ]
     },
     "execution_count": 6,
     "metadata": {},
     "output_type": "execute_result"
    }
   ],
   "source": [
    "rnn_layer = tf.keras.layers.LSTM\n",
    "model_lstm = tf.keras.Sequential([\n",
    "    encoder(14, 28, 28, 2, rnn_layer),\n",
    "    decoder(14, 28, 2, 28, rnn_layer)\n",
    "])\n",
    "model_lstm.compile(\n",
    "    optimizer=tf.keras.optimizers.Adam(0.001),\n",
    "    loss='mse'\n",
    ")\n",
    "\n",
    "model_lstm.fit(\n",
    "    ds_train,\n",
    "    epochs=20,\n",
    "    validation_data=ds_test\n",
    ")"
   ]
  },
  {
   "cell_type": "code",
   "execution_count": 7,
   "metadata": {},
   "outputs": [
    {
     "name": "stdout",
     "output_type": "stream",
     "text": [
      "7\n"
     ]
    },
    {
     "data": {
      "text/plain": [
       "<matplotlib.image.AxesImage at 0x7fd54c067b70>"
      ]
     },
     "execution_count": 7,
     "metadata": {},
     "output_type": "execute_result"
    },
    {
     "data": {
      "image/png": "[encoded data removed]",
      "text/plain": [
       "<Figure size 432x288 with 1 Axes>"
      ]
     },
     "metadata": {
      "needs_background": "light"
     },
     "output_type": "display_data"
    }
   ],
   "source": [
    "index = 0\n",
    "gen = model_lstm(tf.expand_dims(test_images[index], axis=0))\n",
    "print(test_labels[index])\n",
    "plt.imshow(gen[0], cmap='gray')"
   ]
  },
  {
   "cell_type": "markdown",
   "metadata": {},
   "source": [
    "## GRU"
   ]
  },
  {
   "cell_type": "code",
   "execution_count": 8,
   "metadata": {},
   "outputs": [
    {
     "name": "stdout",
     "output_type": "stream",
     "text": [
      "Epoch 1/20\n",
      "469/469 [==============================] - 10s 21ms/step - loss: 0.0693 - val_loss: 0.0632\n",
      "Epoch 2/20\n",
      "469/469 [==============================] - 9s 18ms/step - loss: 0.0602 - val_loss: 0.0588\n",
      "Epoch 3/20\n",
      "469/469 [==============================] - 8s 18ms/step - loss: 0.0583 - val_loss: 0.0579\n",
      "Epoch 4/20\n",
      "469/469 [==============================] - 8s 18ms/step - loss: 0.0576 - val_loss: 0.0572\n",
      "Epoch 5/20\n",
      "469/469 [==============================] - 9s 19ms/step - loss: 0.0570 - val_loss: 0.0564\n",
      "Epoch 6/20\n",
      "469/469 [==============================] - 9s 19ms/step - loss: 0.0561 - val_loss: 0.0555\n",
      "Epoch 7/20\n",
      "469/469 [==============================] - 9s 18ms/step - loss: 0.0551 - val_loss: 0.0546\n",
      "Epoch 8/20\n",
      "469/469 [==============================] - 8s 18ms/step - loss: 0.0544 - val_loss: 0.0545\n",
      "Epoch 9/20\n",
      "469/469 [==============================] - 8s 16ms/step - loss: 0.0538 - val_loss: 0.0533\n",
      "Epoch 10/20\n",
      "469/469 [==============================] - 8s 17ms/step - loss: 0.0532 - val_loss: 0.0530\n",
      "Epoch 11/20\n",
      "469/469 [==============================] - 8s 18ms/step - loss: 0.0527 - val_loss: 0.0523\n",
      "Epoch 12/20\n",
      "469/469 [==============================] - 9s 19ms/step - loss: 0.0522 - val_loss: 0.0520\n",
      "Epoch 13/20\n",
      "469/469 [==============================] - 9s 18ms/step - loss: 0.0519 - val_loss: 0.0519\n",
      "Epoch 14/20\n",
      "469/469 [==============================] - 9s 18ms/step - loss: 0.0514 - val_loss: 0.0509\n",
      "Epoch 15/20\n",
      "469/469 [==============================] - 8s 18ms/step - loss: 0.0510 - val_loss: 0.0512\n",
      "Epoch 16/20\n",
      "469/469 [==============================] - 8s 18ms/step - loss: 0.0508 - val_loss: 0.0511\n",
      "Epoch 17/20\n",
      "469/469 [==============================] - 9s 19ms/step - loss: 0.0507 - val_loss: 0.0506\n",
      "Epoch 18/20\n",
      "469/469 [==============================] - 8s 18ms/step - loss: 0.0503 - val_loss: 0.0500\n",
      "Epoch 19/20\n",
      "469/469 [==============================] - 7s 16ms/step - loss: 0.0501 - val_loss: 0.0497\n",
      "Epoch 20/20\n",
      "469/469 [==============================] - 9s 18ms/step - loss: 0.0496 - val_loss: 0.0493\n"
     ]
    },
    {
     "data": {
      "text/plain": [
       "<tensorflow.python.keras.callbacks.History at 0x7fd53c1fdb70>"
      ]
     },
     "execution_count": 8,
     "metadata": {},
     "output_type": "execute_result"
    }
   ],
   "source": [
    "rnn_layer = tf.keras.layers.GRU\n",
    "model_gru = tf.keras.Sequential([\n",
    "    encoder(14, 28, 28, 2, rnn_layer),\n",
    "    decoder(14, 28, 2, 28, rnn_layer)\n",
    "])\n",
    "model_gru.compile(\n",
    "    optimizer=tf.keras.optimizers.Adam(0.001),\n",
    "    loss='mse'\n",
    ")\n",
    "\n",
    "model_gru.fit(\n",
    "    ds_train,\n",
    "    epochs=20,\n",
    "    validation_data=ds_test\n",
    ")"
   ]
  },
  {
   "cell_type": "code",
   "execution_count": 22,
   "metadata": {},
   "outputs": [
    {
     "name": "stdout",
     "output_type": "stream",
     "text": [
      "7\n"
     ]
    },
    {
     "data": {
      "text/plain": [
       "<matplotlib.image.AxesImage at 0x7fd4d8369d30>"
      ]
     },
     "execution_count": 22,
     "metadata": {},
     "output_type": "execute_result"
    },
    {
     "data": {
      "image/png": "[encoded data removed]",
      "text/plain": [
       "<Figure size 432x288 with 1 Axes>"
      ]
     },
     "metadata": {
      "needs_background": "light"
     },
     "output_type": "display_data"
    }
   ],
   "source": [
    "index = 0\n",
    "gen = model_gru(tf.expand_dims(test_images[index], axis=0))\n",
    "print(test_labels[index])\n",
    "plt.imshow(gen[0], cmap='gray')"
   ]
  },
  {
   "cell_type": "code",
   "execution_count": null,
   "metadata": {},
   "outputs": [],
   "source": []
  }
 ],
 "metadata": {
  "kernelspec": {
   "display_name": "Python 3",
   "language": "python",
   "name": "python3"
  },
  "language_info": {
   "codemirror_mode": {
    "name": "ipython",
    "version": 3
   },
   "file_extension": ".py",
   "mimetype": "text/x-python",
   "name": "python",
   "nbconvert_exporter": "python",
   "pygments_lexer": "ipython3",
   "version": "3.6.8"
  }
 },
 "nbformat": 4,
 "nbformat_minor": 4
}
