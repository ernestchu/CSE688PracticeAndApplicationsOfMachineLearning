{
 "cells": [
  {
   "cell_type": "markdown",
   "metadata": {},
   "source": [
    "# CSE688: Practical and Application of Machine Learning - Spring 2021\n",
    "## Assignment 5-1\n",
    "### Authors\n",
    "\n",
    "- B073040018 朱劭璿\n",
    "- B072010029 陳居廷"
   ]
  },
  {
   "cell_type": "markdown",
   "metadata": {},
   "source": [
    "1. In the Gridworld, the cells of the grid corresponding to the states of the environment. At each cell, four actions are possible, **north**, **south**, **east** and **west**, which deterministaically cause the agent to move one cell in the respective direction on the grid. Actions that would take the agent off the grid leave its location unchanged, but also result in a reward of -1. Other actions result in a reward of 0, except those that move the agent out of the special states **A** and **B**. From state **A**, all four actions yield a reward of +10 an take the agent to **A'**. From state B, all action yield a reward of +5 and take the agent to **B'**.\n",
    "\n",
    "<img src=\"../assets/images/env.png\" alt=\"env.png\" width=\"20%\">"
   ]
  },
  {
   "cell_type": "code",
   "execution_count": 1,
   "metadata": {},
   "outputs": [],
   "source": [
    "import numpy as np\n",
    "import matplotlib\n",
    "import matplotlib.pyplot as plt\n",
    "matplotlib.rcParams.update({'font.size': 24})"
   ]
  },
  {
   "cell_type": "markdown",
   "metadata": {},
   "source": [
    "## Some helper function"
   ]
  },
  {
   "cell_type": "code",
   "execution_count": 2,
   "metadata": {},
   "outputs": [],
   "source": [
    "def draw_grid(ax, arr):\n",
    "    tb = matplotlib.table.Table(ax, bbox=[0, 0, 1, 1])\n",
    "    \n",
    "    nrows, ncols = arr.shape\n",
    "    width, height = 1.0 / ncols, 1.0 / nrows\n",
    "\n",
    "    for (i,j), val in np.ndenumerate(arr):\n",
    "        tb.add_cell(i, j, width, height, text=val, loc='center')\n",
    "        \n",
    "    return tb"
   ]
  },
  {
   "cell_type": "code",
   "execution_count": 3,
   "metadata": {},
   "outputs": [],
   "source": [
    "def take_action(cur_state, action):\n",
    "    '''\n",
    "    arguments:\n",
    "        cur_state: np.array\n",
    "        action:    np.array\n",
    "        \n",
    "    return: tuple(\n",
    "        nxt_state: np.array\n",
    "        reward:    float\n",
    "    )\n",
    "    '''\n",
    "    # special states\n",
    "    if (cur_state == A_state_g).all():\n",
    "        return A_prime_state_g, A_reward_g\n",
    "    if (cur_state == B_state_g).all():\n",
    "        return B_prime_state_g, B_reward_g\n",
    "    \n",
    "    # boundry states\n",
    "    nxt_state = cur_state+action\n",
    "    if (nxt_state <  np.array([0, 0])).any() or \\\n",
    "       (nxt_state >= np.array([world_size_g, world_size_g])).any():\n",
    "        return cur_state, -1.\n",
    "    \n",
    "    # normal states\n",
    "    return nxt_state, 0.\n",
    "    "
   ]
  },
  {
   "cell_type": "markdown",
   "metadata": {},
   "source": [
    "## Recreate the environment in the decription"
   ]
  },
  {
   "cell_type": "code",
   "execution_count": 4,
   "metadata": {},
   "outputs": [],
   "source": [
    "# Environment settings\n",
    "\n",
    "world_size_g    = 5\n",
    "\n",
    "A_state_g       = np.array([0, 1])\n",
    "A_prime_state_g = np.array([4, 1])\n",
    "B_state_g       = np.array([0, 3])\n",
    "B_prime_state_g = np.array([2, 3])\n",
    "\n",
    "A_reward_g      = 10.\n",
    "B_reward_g      = 5.\n",
    "\n",
    "gamma_g         = 0.9 # γ, discount factor\n",
    "\n",
    "# actions: nesw\n",
    "actions_g = np.array([\n",
    "    [-1,  0],\n",
    "    [ 0,  1],\n",
    "    [ 1,  0],\n",
    "    [ 0, -1]\n",
    "])\n",
    "\n",
    "policy_g = 1/actions_g.shape[0] # all the actions have uniform probability\n",
    "\n",
    "bellman_equation_error_g = 1e-4"
   ]
  },
  {
   "cell_type": "code",
   "execution_count": 5,
   "metadata": {},
   "outputs": [
    {
     "name": "stdout",
     "output_type": "stream",
     "text": [
      "The world & Initial state value table\n"
     ]
    },
    {
     "data": {
      "image/png": "[encoded data removed]",
      "text/plain": [
       "<Figure size 792x360 with 2 Axes>"
      ]
     },
     "metadata": {
      "needs_background": "light"
     },
     "output_type": "display_data"
    }
   ],
   "source": [
    "example_world = np.empty((world_size_g, world_size_g), dtype=object)\n",
    "example_world[tuple(A_state_g)]       = 'A'\n",
    "example_world[tuple(A_prime_state_g)] = 'A\\''\n",
    "example_world[tuple(B_state_g)]       = 'B'\n",
    "example_world[tuple(B_prime_state_g)] = 'B\\''\n",
    "\n",
    "state_value_table = np.zeros((world_size_g, world_size_g))\n",
    "\n",
    "fig, (ax0, ax1) = plt.subplots(1, 2, figsize=(11, 5))\n",
    "print('The world & Initial state value table')\n",
    "ax0.set_axis_off()\n",
    "_ = ax0.add_table(draw_grid(ax0, example_world))\n",
    "ax1.set_axis_off()\n",
    "_ = ax1.add_table(draw_grid(ax1, state_value_table))"
   ]
  },
  {
   "cell_type": "markdown",
   "metadata": {},
   "source": [
    "## With the policy of uniform probability"
   ]
  },
  {
   "cell_type": "code",
   "execution_count": 6,
   "metadata": {},
   "outputs": [],
   "source": [
    "def solve_bellman_equation(v):\n",
    "    '''\n",
    "    arguments:\n",
    "        v: np.array, prior state value table\n",
    "    return:\n",
    "        new_v: np,.rray, fulfilled state value table\n",
    "    '''\n",
    "    states = np.array(np.meshgrid(range(world_size_g), range(world_size_g))).T.reshape(-1,2)\n",
    "    while True:\n",
    "        new_v = np.zeros(v.shape)\n",
    "        # iterate throught all the states\n",
    "        for state in states:\n",
    "            # iterate through all the actions\n",
    "            for action in actions_g:\n",
    "                nxt_state, reward = take_action(state, action)\n",
    "                # bellman equation\n",
    "                new_v[tuple(state)] += policy_g * (reward + gamma_g * v[tuple(nxt_state)])\n",
    "                \n",
    "        if np.sum(np.abs(v - new_v)) < bellman_equation_error_g:\n",
    "            return np.round(new_v, decimals=1)\n",
    "        v = new_v\n",
    "                "
   ]
  },
  {
   "cell_type": "code",
   "execution_count": 7,
   "metadata": {},
   "outputs": [
    {
     "name": "stdout",
     "output_type": "stream",
     "text": [
      "Fulfilled state value table\n"
     ]
    },
    {
     "data": {
      "image/png": "[encoded data removed]",
      "text/plain": [
       "<Figure size 360x360 with 1 Axes>"
      ]
     },
     "metadata": {
      "needs_background": "light"
     },
     "output_type": "display_data"
    }
   ],
   "source": [
    "state_value_table = solve_bellman_equation(state_value_table)\n",
    "fig, ax = plt.subplots(figsize=(5, 5))\n",
    "print('Fulfilled state value table')\n",
    "ax.set_axis_off()\n",
    "_ = ax.add_table(draw_grid(ax, state_value_table))"
   ]
  },
  {
   "cell_type": "markdown",
   "metadata": {},
   "source": [
    "## With greedy policy"
   ]
  },
  {
   "cell_type": "code",
   "execution_count": 8,
   "metadata": {},
   "outputs": [],
   "source": [
    "def Q_learning(v):\n",
    "    '''\n",
    "    arguments:\n",
    "        v: np.array, prior state value table\n",
    "    return:\n",
    "        new_v: np.array, fulfilled state value table\n",
    "        pi   : np.array, π, policy table, \"1111\" means \"nesw\", \"1101\" means \"new\"\n",
    "    '''\n",
    "    states = np.array(np.meshgrid(range(world_size_g), range(world_size_g))).T.reshape(-1,2)\n",
    "    pi     = np.empty(v.shape, dtype=object)\n",
    "    while True:\n",
    "        new_v = np.zeros(v.shape)\n",
    "        # iterate throught all the states\n",
    "        for state in states:\n",
    "            # iterate through all the actions\n",
    "            v_list = []\n",
    "            for action in actions_g:\n",
    "                nxt_state, reward = take_action(state, action)\n",
    "                # bellman equation\n",
    "                v_list.append(reward + gamma_g * v[tuple(nxt_state)])\n",
    "                \n",
    "            # take the action with biggest v, greedy!\n",
    "            maxes = np.argwhere(v_list == np.amax(v_list)).T[0]\n",
    "            # set policy to the actions which generate the biggest v\n",
    "            pi[tuple(state)] = ''.join([\n",
    "                '1' if idx in maxes else '0' for idx in range(actions_g.shape[0])\n",
    "            ])\n",
    "            new_v[tuple(state)] = v_list[maxes[0]]\n",
    "                \n",
    "        if np.sum(np.abs(v - new_v)) < bellman_equation_error_g:\n",
    "            return np.round(new_v, decimals=1), pi\n",
    "        v = new_v"
   ]
  },
  {
   "cell_type": "code",
   "execution_count": 9,
   "metadata": {},
   "outputs": [],
   "source": [
    "def policy_postprocess(policy):\n",
    "    for idx in np.array(np.meshgrid(range(world_size_g), range(world_size_g))).T.reshape(-1,2):\n",
    "        new_p = []\n",
    "        p = policy[tuple(idx)]\n",
    "        for action in 'NESW':\n",
    "            bit = p[0]\n",
    "            if len(p): # check if size of p > 0\n",
    "                p = p[1:]\n",
    "            if int(bit):\n",
    "                new_p.append(action)\n",
    "        policy[tuple(idx)] = ''.join(new_p)\n",
    "    return policy"
   ]
  },
  {
   "cell_type": "code",
   "execution_count": 10,
   "metadata": {},
   "outputs": [
    {
     "name": "stdout",
     "output_type": "stream",
     "text": [
      "The optimal state value table & the optimal policy table by Q-Learning\n"
     ]
    },
    {
     "data": {
      "image/png": "[encoded data removed]",
      "text/plain": [
       "<Figure size 792x360 with 2 Axes>"
      ]
     },
     "metadata": {
      "needs_background": "light"
     },
     "output_type": "display_data"
    }
   ],
   "source": [
    "QL_state_value_table = np.zeros((world_size_g, world_size_g))\n",
    "QL_state_value_table, QL_policy = Q_learning(QL_state_value_table)\n",
    "\n",
    "QL_policy = policy_postprocess(QL_policy)\n",
    "\n",
    "fig, (ax0, ax1) = plt.subplots(1, 2, figsize=(11, 5))\n",
    "print('The optimal state value table & the optimal policy table by Q-Learning')\n",
    "ax0.set_axis_off()\n",
    "_ = ax0.add_table(draw_grid(ax0, QL_state_value_table))\n",
    "ax1.set_axis_off()\n",
    "_ = ax1.add_table(draw_grid(ax1, QL_policy))"
   ]
  },
  {
   "cell_type": "code",
   "execution_count": null,
   "metadata": {},
   "outputs": [],
   "source": []
  }
 ],
 "metadata": {
  "kernelspec": {
   "display_name": "Python 3",
   "language": "python",
   "name": "python3"
  },
  "language_info": {
   "codemirror_mode": {
    "name": "ipython",
    "version": 3
   },
   "file_extension": ".py",
   "mimetype": "text/x-python",
   "name": "python",
   "nbconvert_exporter": "python",
   "pygments_lexer": "ipython3",
   "version": "3.6.8"
  }
 },
 "nbformat": 4,
 "nbformat_minor": 4
}
