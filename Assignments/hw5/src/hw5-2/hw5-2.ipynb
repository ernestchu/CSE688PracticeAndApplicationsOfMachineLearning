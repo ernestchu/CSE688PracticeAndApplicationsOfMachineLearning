{
 "cells": [
  {
   "cell_type": "raw",
   "metadata": {},
   "source": [
    "!python3 A2C.py \\\n",
    "--load_weights ./weights/baseline.h5 \\\n",
    "--save_weights ./weights/baseline2.h5 \\\n",
    "--save_figure ./images/result.png"
   ]
  },
  {
   "cell_type": "code",
   "execution_count": 1,
   "metadata": {},
   "outputs": [],
   "source": [
    "# 0, 1, 2, 3 = Right, Down, Left, Up"
   ]
  },
  {
   "cell_type": "code",
   "execution_count": null,
   "metadata": {},
   "outputs": [
    {
     "name": "stdout",
     "output_type": "stream",
     "text": [
      "pygame 2.0.1 (SDL 2.0.14, Python 3.9.5)\n",
      "Hello from the pygame community. https://www.pygame.org/contribute.html\n"
     ]
    }
   ],
   "source": [
    "from snake_env import *\n",
    "from Actor import Actor\n",
    "import numpy as np\n",
    "import tensorflow as tf\n",
    "tf.keras.backend.set_floatx('float64')\n",
    "\n",
    "env = snake_env()\n",
    "actor = Actor((env.size, env.size), env.action_space, 0)\n",
    "actor.model.load_weights('baseline.h5')\n",
    "while True:\n",
    "    state = env.reset()\n",
    "    done = False\n",
    "    while not done:\n",
    "        env.render()\n",
    "        delay(.1)\n",
    "        probs = tf.nn.softmax(actor.model(np.expand_dims(state, 0))[0])\n",
    "        action = np.random.choice(env.action_space, p=probs)\n",
    "        \n",
    "        next_state, reward, done, info = env.step(action)\n",
    "        state = next_state\n",
    "#         print(state)\n",
    "#         print(f'Reward: {reward}')\n",
    "#         print(done)\n",
    "#         print(info)"
   ]
  },
  {
   "cell_type": "code",
   "execution_count": null,
   "metadata": {},
   "outputs": [],
   "source": []
  }
 ],
 "metadata": {
  "kernelspec": {
   "display_name": "Python 3",
   "language": "python",
   "name": "python3"
  },
  "language_info": {
   "codemirror_mode": {
    "name": "ipython",
    "version": 3
   },
   "file_extension": ".py",
   "mimetype": "text/x-python",
   "name": "python",
   "nbconvert_exporter": "python",
   "pygments_lexer": "ipython3",
   "version": "3.9.5"
  }
 },
 "nbformat": 4,
 "nbformat_minor": 4
}
