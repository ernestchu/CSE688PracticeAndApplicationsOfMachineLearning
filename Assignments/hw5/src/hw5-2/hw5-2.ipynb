{
 "cells": [
  {
   "cell_type": "code",
   "execution_count": 1,
   "metadata": {},
   "outputs": [
    {
     "name": "stdout",
     "output_type": "stream",
     "text": [
      "pygame 2.0.1 (SDL 2.0.14, Python 3.9.5)\n",
      "Hello from the pygame community. https://www.pygame.org/contribute.html\n",
      "2021-05-26 02:42:03.251171: I tensorflow/core/platform/cpu_feature_guard.cc:142] This TensorFlow binary is optimized with oneAPI Deep Neural Network Library (oneDNN) to use the following CPU instructions in performance-critical operations:  AVX2 FMA\n",
      "To enable them in other operations, rebuild TensorFlow with the appropriate compiler flags.\n",
      "100%|█████████████████████████████████████████████| 8/8 [00:00<00:00, 13.34it/s]\n",
      "2021-05-26 02:42:04.355303: I tensorflow/compiler/mlir/mlir_graph_optimization_pass.cc:176] None of the MLIR Optimization Passes are enabled (registered 2)\n",
      "Episode: 0, return: -1.0\n",
      "Episode: 20, return: -1.0\n",
      "Episode: 40, return: -1.0\n",
      "Episode: 60, return: -1.0\n",
      "Episode: 80, return: -1.0\n",
      "Episode: 100, return: -1.0\n",
      "Episode: 120, return: -1.0\n",
      "Episode: 140, return: -1.0\n",
      "Episode: 160, return: -1.0\n",
      "Episode: 180, return: -1.0\n",
      "Episode: 200, return: -1.0\n",
      "Episode: 220, return: -1.0\n",
      "Episode: 240, return: -1.0\n",
      "Episode: 260, return: -1.0\n",
      "Episode: 280, return: -1.0\n",
      "Episode: 300, return: -1.0\n",
      "Episode: 320, return: -1.0\n",
      "Episode: 340, return: -1.0\n",
      "Episode: 360, return: -1.0\n",
      "Episode: 380, return: -1.0\n",
      "Episode: 400, return: -1.0\n",
      "Episode: 420, return: -1.0\n",
      "^C\n",
      "Traceback (most recent call last):\n",
      "  File \"/Users/ernestchu/Library/Mobile Documents/com~apple~CloudDocs/University/Junior/Spring/CSE688PracticeAndApplicationsOfMachineLearning/Assignments/hw5/src/hw5-2/train.py\", line 228, in <module>\n",
      "    main()\n",
      "  File \"/Users/ernestchu/Library/Mobile Documents/com~apple~CloudDocs/University/Junior/Spring/CSE688PracticeAndApplicationsOfMachineLearning/Assignments/hw5/src/hw5-2/train.py\", line 224, in main\n",
      "    agent.train()\n",
      "  File \"/Users/ernestchu/Library/Mobile Documents/com~apple~CloudDocs/University/Junior/Spring/CSE688PracticeAndApplicationsOfMachineLearning/Assignments/hw5/src/hw5-2/train.py\", line 117, in train\n",
      "    worker.join()\n",
      "  File \"/usr/local/Cellar/python@3.9/3.9.5/Frameworks/Python.framework/Versions/3.9/lib/python3.9/threading.py\", line 1033, in join\n",
      "    self._wait_for_tstate_lock()\n",
      "  File \"/usr/local/Cellar/python@3.9/3.9.5/Frameworks/Python.framework/Versions/3.9/lib/python3.9/threading.py\", line 1049, in _wait_for_tstate_lock\n",
      "    elif lock.acquire(block, timeout):\n",
      "KeyboardInterrupt\n"
     ]
    }
   ],
   "source": [
    "!python3 train.py"
   ]
  },
  {
   "cell_type": "code",
   "execution_count": 2,
   "metadata": {},
   "outputs": [],
   "source": [
    "# 0, 1, 2, 3 = Right, Down, Left, Up"
   ]
  },
  {
   "cell_type": "raw",
   "metadata": {},
   "source": [
    "env = snake_env()\n",
    "while True:\n",
    "    env.reset()\n",
    "    while True:\n",
    "        env.render()\n",
    "        delay(.3)\n",
    "        next_state, reward, done, info = env.step(random.randint(0, 3))\n",
    "        print(next_state)\n",
    "        print(f'Reward: {reward}')\n",
    "        print(done)\n",
    "        print(info)\n",
    "        if done:\n",
    "            break"
   ]
  },
  {
   "cell_type": "code",
   "execution_count": null,
   "metadata": {},
   "outputs": [],
   "source": []
  }
 ],
 "metadata": {
  "kernelspec": {
   "display_name": "Python 3",
   "language": "python",
   "name": "python3"
  },
  "language_info": {
   "codemirror_mode": {
    "name": "ipython",
    "version": 3
   },
   "file_extension": ".py",
   "mimetype": "text/x-python",
   "name": "python",
   "nbconvert_exporter": "python",
   "pygments_lexer": "ipython3",
   "version": "3.9.5"
  }
 },
 "nbformat": 4,
 "nbformat_minor": 4
}
