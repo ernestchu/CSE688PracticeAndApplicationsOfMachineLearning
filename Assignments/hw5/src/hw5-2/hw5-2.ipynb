{
 "cells": [
  {
   "cell_type": "code",
   "execution_count": 1,
   "metadata": {},
   "outputs": [
    {
     "name": "stdout",
     "output_type": "stream",
     "text": [
      "pygame 2.0.1 (SDL 2.0.14, Python 3.9.5)\n",
      "Hello from the pygame community. https://www.pygame.org/contribute.html\n",
      "2021-05-26 21:44:12.440804: I tensorflow/core/platform/cpu_feature_guard.cc:142] This TensorFlow binary is optimized with oneAPI Deep Neural Network Library (oneDNN) to use the following CPU instructions in performance-critical operations:  AVX2 FMA\n",
      "To enable them in other operations, rebuild TensorFlow with the appropriate compiler flags.\n",
      "  0%|                                                  | 0/3000 [00:00<?, ?it/s]2021-05-26 21:44:23.179994: I tensorflow/compiler/mlir/mlir_graph_optimization_pass.cc:176] None of the MLIR Optimization Passes are enabled (registered 2)\n",
      "  4%|█▋                                      | 126/3000 [00:23<08:47,  5.45it/s]\n",
      "Episode: 3000, Avg Reward: -0.5\n",
      "Actor loss: -0.0743623859807849, Critic loss: 0.07646992802619934\n",
      "  9%|███▌                                    | 264/3000 [00:49<08:25,  5.41it/s]\n",
      "Episode: 6000, Avg Reward: -0.5\n",
      "Actor loss: 0.10175468385219574, Critic loss: 0.1631355583667755\n",
      " 14%|█████▌                                  | 413/3000 [01:20<08:19,  5.17it/s]\n",
      "Episode: 9000, Avg Reward: -0.16666666666666666\n",
      "Actor loss: -0.12065166950225831, Critic loss: 0.02757437899708748\n",
      " 19%|███████▋                                | 577/3000 [01:55<10:09,  3.97it/s]\n",
      "Episode: 12000, Avg Reward: -0.2\n",
      "Actor loss: -0.07588034063577652, Critic loss: 0.07178115099668503\n",
      " 25%|██████████                              | 754/3000 [02:33<08:07,  4.61it/s]\n",
      "Episode: 15000, Avg Reward: -0.5\n",
      "Actor loss: -0.07906717263162136, Critic loss: 0.06272494047880173\n",
      " 32%|████████████▋                           | 950/3000 [03:11<06:33,  5.21it/s]\n",
      "Episode: 18000, Avg Reward: -0.5\n",
      "Actor loss: -0.10929072499275208, Critic loss: 0.09512760490179062\n",
      " 39%|███████████████                        | 1162/3000 [03:53<05:36,  5.46it/s]\n",
      "Episode: 21000, Avg Reward: -1.0\n",
      "Actor loss: -0.013981622159481052, Critic loss: 0.10141506791114807\n",
      " 47%|██████████████████▏                    | 1396/3000 [04:39<04:50,  5.52it/s]\n",
      "Episode: 24000, Avg Reward: -0.5\n",
      "Actor loss: -0.09838970214128495, Critic loss: 0.11285020411014557\n",
      " 55%|█████████████████████▌                 | 1658/3000 [05:29<04:22,  5.11it/s]\n",
      "Episode: 27000, Avg Reward: -0.5\n",
      "Actor loss: -0.08222744479775429, Critic loss: 0.2046581655740738\n",
      " 65%|█████████████████████████▏             | 1937/3000 [06:22<03:16,  5.41it/s]\n",
      "Episode: 30000, Avg Reward: -1.0\n",
      "Actor loss: -0.28868713200092316, Critic loss: 0.056961171329021454\n",
      " 70%|███████████████████████████▍           | 2106/3000 [06:55<03:08,  4.75it/s]^C\n",
      " 70%|███████████████████████████▍           | 2107/3000 [06:56<02:56,  5.06it/s]\n",
      "Traceback (most recent call last):\n",
      "  File \"/Users/ernestchu/Library/Mobile Documents/com~apple~CloudDocs/University/Junior/Spring/CSE688PracticeAndApplicationsOfMachineLearning/Assignments/hw5/src/hw5-2/A2C.py\", line 135, in <module>\n",
      "    main()\n",
      "  File \"/Users/ernestchu/Library/Mobile Documents/com~apple~CloudDocs/University/Junior/Spring/CSE688PracticeAndApplicationsOfMachineLearning/Assignments/hw5/src/hw5-2/A2C.py\", line 131, in main\n",
      "    agent.train()\n",
      "  File \"/Users/ernestchu/Library/Mobile Documents/com~apple~CloudDocs/University/Junior/Spring/CSE688PracticeAndApplicationsOfMachineLearning/Assignments/hw5/src/hw5-2/A2C.py\", line 75, in train\n",
      "    probs  = tf.nn.softmax(self.actor.model(np.expand_dims(state, 0))[0])\n",
      "  File \"/usr/local/lib/python3.9/site-packages/tensorflow/python/keras/engine/base_layer.py\", line 1030, in __call__\n",
      "    outputs = call_fn(inputs, *args, **kwargs)\n",
      "  File \"/usr/local/lib/python3.9/site-packages/tensorflow/python/keras/engine/sequential.py\", line 380, in call\n",
      "    return super(Sequential, self).call(inputs, training=training, mask=mask)\n",
      "  File \"/usr/local/lib/python3.9/site-packages/tensorflow/python/keras/engine/functional.py\", line 420, in call\n",
      "    return self._run_internal_graph(\n",
      "  File \"/usr/local/lib/python3.9/site-packages/tensorflow/python/keras/engine/functional.py\", line 556, in _run_internal_graph\n",
      "    outputs = node.layer(*args, **kwargs)\n",
      "  File \"/usr/local/lib/python3.9/site-packages/tensorflow/python/keras/engine/base_layer.py\", line 1030, in __call__\n",
      "    outputs = call_fn(inputs, *args, **kwargs)\n",
      "  File \"/usr/local/lib/python3.9/site-packages/tensorflow/python/keras/layers/core.py\", line 1213, in call\n",
      "    if inputs.dtype.base_dtype != self._compute_dtype_object.base_dtype:\n",
      "  File \"/usr/local/lib/python3.9/site-packages/tensorflow/python/framework/ops.py\", line 1068, in dtype\n",
      "    return dtypes._INTERN_TABLE[self._datatype_enum()]  # pylint: disable=protected-access\n",
      "KeyboardInterrupt\n"
     ]
    }
   ],
   "source": [
    "!python3 A2C.py --save_weights baseline.h5 --save_figure result.png"
   ]
  },
  {
   "cell_type": "code",
   "execution_count": 2,
   "metadata": {},
   "outputs": [],
   "source": [
    "# 0, 1, 2, 3 = Right, Down, Left, Up"
   ]
  },
  {
   "cell_type": "code",
   "execution_count": null,
   "metadata": {},
   "outputs": [
    {
     "name": "stdout",
     "output_type": "stream",
     "text": [
      "pygame 2.0.1 (SDL 2.0.14, Python 3.9.5)\n",
      "Hello from the pygame community. https://www.pygame.org/contribute.html\n"
     ]
    }
   ],
   "source": [
    "from snake_env import *\n",
    "from Actor import Actor\n",
    "import numpy as np\n",
    "import tensorflow as tf\n",
    "tf.keras.backend.set_floatx('float64')\n",
    "\n",
    "env = snake_env()\n",
    "actor = Actor((env.size, env.size), env.action_space, 0)\n",
    "actor.model.load_weights('baseline.h5')\n",
    "while True:\n",
    "    state = env.reset()\n",
    "    done = False\n",
    "    while not done:\n",
    "        env.render()\n",
    "        delay(.3)\n",
    "        probs = tf.nn.softmax(actor.model(np.expand_dims(state, 0))[0])\n",
    "        action = np.random.choice(env.action_space, p=probs)\n",
    "        \n",
    "        next_state, reward, done, info = env.step(action)\n",
    "        state = next_state\n",
    "#         print(state)\n",
    "#         print(f'Reward: {reward}')\n",
    "#         print(done)\n",
    "#         print(info)"
   ]
  },
  {
   "cell_type": "code",
   "execution_count": 2,
   "metadata": {},
   "outputs": [
    {
     "data": {
      "text/plain": [
       "[<matplotlib.lines.Line2D at 0x110155970>]"
      ]
     },
     "execution_count": 2,
     "metadata": {},
     "output_type": "execute_result"
    },
    {
     "data": {
      "image/png": "[encoded data removed]",
      "text/plain": [
       "<Figure size 432x288 with 1 Axes>"
      ]
     },
     "metadata": {
      "needs_background": "light"
     },
     "output_type": "display_data"
    }
   ],
   "source": [
    "import matplotlib.pyplot as plt\n",
    "plt.plot([1, 0, 1, 0, 1, 1, 0])"
   ]
  },
  {
   "cell_type": "code",
   "execution_count": null,
   "metadata": {},
   "outputs": [],
   "source": []
  }
 ],
 "metadata": {
  "kernelspec": {
   "display_name": "Python 3",
   "language": "python",
   "name": "python3"
  },
  "language_info": {
   "codemirror_mode": {
    "name": "ipython",
    "version": 3
   },
   "file_extension": ".py",
   "mimetype": "text/x-python",
   "name": "python",
   "nbconvert_exporter": "python",
   "pygments_lexer": "ipython3",
   "version": "3.9.5"
  }
 },
 "nbformat": 4,
 "nbformat_minor": 4
}
