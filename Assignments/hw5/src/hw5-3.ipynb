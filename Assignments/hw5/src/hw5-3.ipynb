{
 "cells": [
  {
   "cell_type": "markdown",
   "id": "sunset-jerusalem",
   "metadata": {},
   "source": [
    "# CSE688: Practical and Application of Machine Learning - Spring 2021\n",
    "## Assignment 5-3\n",
    "### Authors\n",
    "\n",
    "- B073040018 朱劭璿\n",
    "- B072010029 陳居廷"
   ]
  },
  {
   "cell_type": "markdown",
   "id": "downtown-guatemala",
   "metadata": {},
   "source": [
    "## Another RL application: RAM\n",
    "### RAM (Recurrent Attention Model) [Mnih et al. 2014]\n",
    "In the traditional image classification tasks, the entire image would be fed into the network. However, the object to be classified usually takes up only a partial region out of the entire image. Therefore, we can train a RL network to take **glimpses** on only part of the image, typically reletive small regions. The predicted next glimpse can also be passed in as input at the next timestamp, just like RNN!\n",
    "#### RL characteristics\n",
    "\n",
    "- State: Glimpses seen so far\n",
    "- Action: (x, y ) coordinates of where to look next in the image\n",
    "- Reward: 1 at the finaly timestep if the image is correctly classified, 0 otherwise\n",
    "\n",
    "#### Applications\n",
    "\n",
    "- fine-tuing a trained model ⟶ effectively reducing the inference time.\n",
    "- image captioning\n",
    "- visual question-answering"
   ]
  },
  {
   "cell_type": "markdown",
   "id": "artistic-missile",
   "metadata": {},
   "source": [
    "![](../assets/images/RAM.jpg)\n",
    "\n",
    "> Image credit to cs231n, Stanford University"
   ]
  },
  {
   "cell_type": "code",
   "execution_count": null,
   "id": "institutional-volleyball",
   "metadata": {},
   "outputs": [],
   "source": []
  }
 ],
 "metadata": {
  "kernelspec": {
   "display_name": "Python 3",
   "language": "python",
   "name": "python3"
  },
  "language_info": {
   "codemirror_mode": {
    "name": "ipython",
    "version": 3
   },
   "file_extension": ".py",
   "mimetype": "text/x-python",
   "name": "python",
   "nbconvert_exporter": "python",
   "pygments_lexer": "ipython3",
   "version": "3.9.5"
  }
 },
 "nbformat": 4,
 "nbformat_minor": 5
}
