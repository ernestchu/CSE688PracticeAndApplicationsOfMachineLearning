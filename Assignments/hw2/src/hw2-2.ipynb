{
 "cells": [
  {
   "cell_type": "markdown",
   "metadata": {},
   "source": [
    "# CSE688: Practical and Application of Machine Learning - Spring 2021\n",
    "## Assignment 2-2\n",
    "### Authors\n",
    "\n",
    "- B073040018 朱劭璿\n",
    "- B072010029 陳居廷"
   ]
  },
  {
   "cell_type": "markdown",
   "metadata": {},
   "source": [
    "#### The attachment *normal.npy*, *outer_break.npy*, *inner_break.npy* store fifty samples of normal, outer-broken, inner-broken waveforms of bearing. Please design a neural network model to classify these three types of waveforms. Please inspect the waveform and watch for periodically waveforms. Consequently, please don't use the entire sample during both training and testing phase. Instead, get an useful segment and do the classification on it.\n"
   ]
  },
  {
   "cell_type": "code",
   "execution_count": 1,
   "metadata": {},
   "outputs": [],
   "source": [
    "import numpy as np\n",
    "import matplotlib.pyplot as plt\n",
    "DATA_DIR = '../data/'\n",
    "inner_break = np.load(DATA_DIR+'inner_break.npy')\n",
    "normal = np.load(DATA_DIR+'normal.npy')\n",
    "outer_break = np.load(DATA_DIR+'outer_break.npy')"
   ]
  },
  {
   "cell_type": "code",
   "execution_count": 2,
   "metadata": {},
   "outputs": [
    {
     "data": {
      "text/plain": [
       "(1024,)"
      ]
     },
     "execution_count": 2,
     "metadata": {},
     "output_type": "execute_result"
    },
    {
     "data": {
      "image/png": "[encoded data removed]",
      "text/plain": [
       "<Figure size 432x288 with 1 Axes>"
      ]
     },
     "metadata": {
      "needs_background": "light"
     },
     "output_type": "display_data"
    }
   ],
   "source": [
    "n = inner_break[8][4000:6046]\n",
    "n = np.fft.rfft(n)\n",
    "plt.plot(np.abs(n))\n",
    "n.shape"
   ]
  },
  {
   "cell_type": "code",
   "execution_count": 3,
   "metadata": {},
   "outputs": [],
   "source": [
    "X = np.concatenate([normal, inner_break, outer_break])[:, 4000:6046]\n",
    "X = np.abs(np.fft.rfft(X))\n",
    "Y = np.array([0]*55+[1]*55+[2]*55)\n",
    "shuffler = np.random.permutation(len(X))\n",
    "X = X[shuffler]\n",
    "Y = Y[shuffler]\n",
    "spliter = int(len(X)*0.7)\n",
    "X_train, X_test = X[:spliter], X[spliter:]\n",
    "Y_train, Y_test = Y[:spliter], Y[spliter:]"
   ]
  },
  {
   "cell_type": "code",
   "execution_count": 4,
   "metadata": {},
   "outputs": [
    {
     "name": "stdout",
     "output_type": "stream",
     "text": [
      "Model: \"sequential\"\n",
      "_________________________________________________________________\n",
      "Layer (type)                 Output Shape              Param #   \n",
      "=================================================================\n",
      "dense (Dense)                (None, 1024)              1049600   \n",
      "_________________________________________________________________\n",
      "dense_1 (Dense)              (None, 1024)              1049600   \n",
      "_________________________________________________________________\n",
      "dense_2 (Dense)              (None, 512)               524800    \n",
      "_________________________________________________________________\n",
      "dense_3 (Dense)              (None, 256)               131328    \n",
      "_________________________________________________________________\n",
      "dense_4 (Dense)              (None, 128)               32896     \n",
      "_________________________________________________________________\n",
      "dropout (Dropout)            (None, 128)               0         \n",
      "_________________________________________________________________\n",
      "dense_5 (Dense)              (None, 64)                8256      \n",
      "_________________________________________________________________\n",
      "dropout_1 (Dropout)          (None, 64)                0         \n",
      "_________________________________________________________________\n",
      "dense_6 (Dense)              (None, 3)                 195       \n",
      "=================================================================\n",
      "Total params: 2,796,675\n",
      "Trainable params: 2,796,675\n",
      "Non-trainable params: 0\n",
      "_________________________________________________________________\n"
     ]
    }
   ],
   "source": [
    "import tensorflow as tf\n",
    "model = tf.keras.Sequential([\n",
    "    tf.keras.layers.Dense(1024, activation='relu', kernel_regularizer='l1', input_shape=(1024, )),\n",
    "    tf.keras.layers.Dense(1024, activation='relu', kernel_regularizer='l1'),\n",
    "    tf.keras.layers.Dense(512, activation='relu'),\n",
    "    tf.keras.layers.Dense(256, activation='relu'),\n",
    "    tf.keras.layers.Dense(128, activation='relu'),\n",
    "    tf.keras.layers.Dropout(.3),\n",
    "    tf.keras.layers.Dense(64, activation='relu'),\n",
    "    tf.keras.layers.Dropout(.3),\n",
    "    tf.keras.layers.Dense(3)\n",
    "])\n",
    "model.summary()"
   ]
  },
  {
   "cell_type": "code",
   "execution_count": 5,
   "metadata": {},
   "outputs": [
    {
     "name": "stdout",
     "output_type": "stream",
     "text": [
      "Epoch 1/10\n",
      "2/2 [==============================] - 0s 3ms/step - loss: 560.7825 - acc: 0.3913\n",
      "Epoch 2/10\n",
      "2/2 [==============================] - 0s 2ms/step - loss: 524.7260 - acc: 0.5391\n",
      "Epoch 3/10\n",
      "2/2 [==============================] - 0s 2ms/step - loss: 489.2412 - acc: 0.7304\n",
      "Epoch 4/10\n",
      "2/2 [==============================] - 0s 2ms/step - loss: 455.1512 - acc: 0.7217\n",
      "Epoch 5/10\n",
      "2/2 [==============================] - 0s 2ms/step - loss: 422.0361 - acc: 0.9217\n",
      "Epoch 6/10\n",
      "2/2 [==============================] - 0s 2ms/step - loss: 390.3122 - acc: 0.9739\n",
      "Epoch 7/10\n",
      "2/2 [==============================] - 0s 2ms/step - loss: 359.7538 - acc: 0.9913\n",
      "Epoch 8/10\n",
      "2/2 [==============================] - 0s 2ms/step - loss: 330.4339 - acc: 0.9913\n",
      "Epoch 9/10\n",
      "2/2 [==============================] - 0s 2ms/step - loss: 302.3203 - acc: 1.0000\n",
      "Epoch 10/10\n",
      "2/2 [==============================] - 0s 2ms/step - loss: 275.5088 - acc: 1.0000\n"
     ]
    },
    {
     "data": {
      "text/plain": [
       "<tensorflow.python.keras.callbacks.History at 0x7fdb802c0cc0>"
      ]
     },
     "execution_count": 5,
     "metadata": {},
     "output_type": "execute_result"
    }
   ],
   "source": [
    "model.compile(\n",
    "    optimizer='adam',\n",
    "    loss=tf.keras.losses.SparseCategoricalCrossentropy(from_logits=True, name='loss'),\n",
    "    metrics=[tf.keras.metrics.SparseCategoricalAccuracy(name='acc')]\n",
    ")\n",
    "model.fit(\n",
    "    X_train,\n",
    "    Y_train,\n",
    "    batch_size = 64,\n",
    "    epochs = 10,\n",
    ")"
   ]
  },
  {
   "cell_type": "code",
   "execution_count": 6,
   "metadata": {},
   "outputs": [
    {
     "name": "stdout",
     "output_type": "stream",
     "text": [
      "2/2 [==============================] - 0s 2ms/step - loss: 255.4586 - acc: 1.0000\n"
     ]
    },
    {
     "data": {
      "text/plain": [
       "[255.4585723876953, 1.0]"
      ]
     },
     "execution_count": 6,
     "metadata": {},
     "output_type": "execute_result"
    }
   ],
   "source": [
    "model.evaluate(\n",
    "    X_test,\n",
    "    Y_test\n",
    ")"
   ]
  },
  {
   "cell_type": "code",
   "execution_count": null,
   "metadata": {},
   "outputs": [],
   "source": []
  }
 ],
 "metadata": {
  "kernelspec": {
   "display_name": "Python 3",
   "language": "python",
   "name": "python3"
  },
  "language_info": {
   "codemirror_mode": {
    "name": "ipython",
    "version": 3
   },
   "file_extension": ".py",
   "mimetype": "text/x-python",
   "name": "python",
   "nbconvert_exporter": "python",
   "pygments_lexer": "ipython3",
   "version": "3.6.8"
  }
 },
 "nbformat": 4,
 "nbformat_minor": 4
}
