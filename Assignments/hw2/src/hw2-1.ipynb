{
 "cells": [
  {
   "cell_type": "markdown",
   "metadata": {},
   "source": [
    "# CSE688: Practical and Application of Machine Learning - Spring 2021\n",
    "## Assignment 2-1\n",
    "### Authors\n",
    "\n",
    "- B073040018 朱劭璿\n",
    "- B072010029 陳居廷"
   ]
  },
  {
   "cell_type": "markdown",
   "metadata": {},
   "source": [
    "#### Regarding 50 2D-vectors $(u1, u2)$ in `HW2-1.csv`. Please use *Tensorflow 2.0* to design multi-layer neural networks to generate the data distribution similar to these vectors. Then plot the real data and the genrated data on a 2D-plane with different colors.\n",
    "\n",
    "> Hint: The candidate model architectures include autoencoders, generative adversaroal networks, etc."
   ]
  },
  {
   "cell_type": "code",
   "execution_count": 1,
   "metadata": {},
   "outputs": [],
   "source": [
    "import tensorflow as tf\n",
    "import numpy as np\n",
    "import csv\n",
    "import matplotlib.pyplot as plt\n",
    "BATCH_SIZE = 20"
   ]
  },
  {
   "cell_type": "markdown",
   "metadata": {},
   "source": [
    "## Import data"
   ]
  },
  {
   "cell_type": "code",
   "execution_count": 2,
   "metadata": {},
   "outputs": [
    {
     "data": {
      "image/png": "[encoded data removed]",
      "text/plain": [
       "<Figure size 432x288 with 1 Axes>"
      ]
     },
     "metadata": {
      "needs_background": "light"
     },
     "output_type": "display_data"
    }
   ],
   "source": [
    "DATA_DIR = '../data/'\n",
    "u1_raw = []\n",
    "u2_raw = []\n",
    "with open(DATA_DIR+'HW2-1.csv', newline='') as f:\n",
    "    reader = csv.DictReader(f)\n",
    "    for row in reader:\n",
    "        u1_raw.append(float(row['U1']))\n",
    "        u2_raw.append(float(row['U2']))\n",
    "        \n",
    "plt.scatter(u1_raw, u2_raw)\n",
    "\n",
    "u1 = np.array(u1_raw).reshape(-1, 1)\n",
    "u2 = np.array(u2_raw).reshape(-1, 1)\n",
    "dataset = np.concatenate((u1, u2), axis=-1).astype(np.float32)\n",
    "dataset = tf.data.Dataset.from_tensor_slices(dataset).shuffle(100).batch(BATCH_SIZE)"
   ]
  },
  {
   "cell_type": "markdown",
   "metadata": {},
   "source": [
    "## Notion\n",
    "The data distribution follows a polynomial curve. Let's say we have a 2D random normal distribution $z$ with mean = $(0, -0.4)$ and standard deviation = $(0.3, 0.1)$"
   ]
  },
  {
   "cell_type": "code",
   "execution_count": 3,
   "metadata": {},
   "outputs": [
    {
     "data": {
      "text/plain": [
       "<matplotlib.collections.PathCollection at 0x7f79703231d0>"
      ]
     },
     "execution_count": 3,
     "metadata": {},
     "output_type": "execute_result"
    },
    {
     "data": {
      "image/png": "[encoded data removed]",
      "text/plain": [
       "<Figure size 432x288 with 1 Axes>"
      ]
     },
     "metadata": {
      "needs_background": "light"
     },
     "output_type": "display_data"
    }
   ],
   "source": [
    "z = np.random.normal((0., -.4), (.3, .1), (1000, 2))\n",
    "# z = np.random.uniform((-1., -1.), (1., 0.), (1000, 2))\n",
    "\n",
    "plt.scatter(z[:, 0], z[:, 1])"
   ]
  },
  {
   "cell_type": "markdown",
   "metadata": {},
   "source": [
    "We want a function that transform $z$ into the target distribution. We can approach this with neural networks and train them with an adversarial loss, which implies a discriminative neural network checking if the transformed distrubtion is similar to the target one."
   ]
  },
  {
   "cell_type": "markdown",
   "metadata": {},
   "source": [
    "## Define Model Architecture"
   ]
  },
  {
   "cell_type": "code",
   "execution_count": 4,
   "metadata": {},
   "outputs": [
    {
     "name": "stdout",
     "output_type": "stream",
     "text": [
      "Model: \"Generator\"\n",
      "_________________________________________________________________\n",
      "Layer (type)                 Output Shape              Param #   \n",
      "=================================================================\n",
      "sequential_7 (Sequential)    (None, 2)                 95        \n",
      "=================================================================\n",
      "Total params: 95\n",
      "Trainable params: 69\n",
      "Non-trainable params: 26\n",
      "_________________________________________________________________\n",
      "None\n",
      "Model: \"Discriminator\"\n",
      "_________________________________________________________________\n",
      "Layer (type)                 Output Shape              Param #   \n",
      "=================================================================\n",
      "sequential_12 (Sequential)   (None, 1)                 59        \n",
      "=================================================================\n",
      "Total params: 59\n",
      "Trainable params: 43\n",
      "Non-trainable params: 16\n",
      "_________________________________________________________________\n",
      "None\n"
     ]
    }
   ],
   "source": [
    "class DenseBlock(tf.keras.Model):\n",
    "    def __init__(\n",
    "        self,\n",
    "        out_nodes,\n",
    "        norm_layer = tf.keras.layers.BatchNormalization,\n",
    "        dropout: float = 0.\n",
    "    ):\n",
    "        super(DenseBlock, self).__init__()\n",
    "        layers = [tf.keras.layers.Dense(out_nodes, activation='tanh')]\n",
    "        if norm_layer:\n",
    "            layers.append(norm_layer())\n",
    "        if dropout:\n",
    "            layers.append(tf.keras.layers.Dropout(dropout))\n",
    "            \n",
    "        self.model = tf.keras.models.Sequential([*layers])\n",
    "        \n",
    "    def call(self, x):\n",
    "        return self.model(x)\n",
    "    \n",
    "class Generator(tf.keras.Model):\n",
    "    def __init__(self):\n",
    "        super(Generator, self).__init__(name='Generator')\n",
    "        layers = []\n",
    "        for _ in range(2):\n",
    "            layers.append(DenseBlock(2))\n",
    "        for out_nodes in [2, 1, 2]:\n",
    "            layers.append(DenseBlock(out_nodes))\n",
    "        for _ in range(2):\n",
    "            layers.append(DenseBlock(2))\n",
    "            \n",
    "        layers.append(tf.keras.layers.Dense(2))\n",
    "        self.model = tf.keras.models.Sequential([*layers])\n",
    "        \n",
    "    def call(self, x, training=None):\n",
    "        return self.model(x, training=training)\n",
    "\n",
    "class Discriminator(tf.keras.Model):\n",
    "    def __init__(self):\n",
    "        super(Discriminator, self).__init__(name='Discriminator')\n",
    "        layers = []\n",
    "        for _ in range(4):\n",
    "            layers.append(DenseBlock(2))\n",
    "            \n",
    "        layers.append(tf.keras.layers.Dense(1))\n",
    "        self.model = tf.keras.models.Sequential([*layers])\n",
    "        \n",
    "    def call(self, x, training=None):\n",
    "        return self.model(x, training=training)\n",
    "    \n",
    "G = Generator()\n",
    "D = Discriminator()\n",
    "\n",
    "G.build(input_shape=(None, 2))\n",
    "D.build(input_shape=(None, 2))\n",
    "print(G.summary())\n",
    "print(D.summary())"
   ]
  },
  {
   "cell_type": "markdown",
   "metadata": {},
   "source": [
    "## Define the Loss and Optimizers"
   ]
  },
  {
   "cell_type": "code",
   "execution_count": 5,
   "metadata": {},
   "outputs": [],
   "source": [
    "def discriminator_loss(real_logit, fake_logit):\n",
    "    real_loss = -tf.reduce_mean(real_logit)\n",
    "    fake_loss = tf.reduce_mean(fake_logit)\n",
    "    return real_loss + fake_loss\n",
    "def generator_loss(fake_logit):\n",
    "    return -tf.reduce_mean(fake_logit)\n",
    "\n",
    "D_optimizer = tf.keras.optimizers.Adam()\n",
    "G_optimizer = tf.keras.optimizers.Adam()"
   ]
  },
  {
   "cell_type": "markdown",
   "metadata": {},
   "source": [
    "## Define Training Loop"
   ]
  },
  {
   "cell_type": "code",
   "execution_count": 6,
   "metadata": {},
   "outputs": [],
   "source": [
    "EPOCHS = 1000\n",
    "D_REPEAT = 3\n",
    "GP_WEIGHT = .05"
   ]
  },
  {
   "cell_type": "markdown",
   "metadata": {},
   "source": [
    "![wgangp](./images/wgangp.png)\n",
    "\n",
    "> Image credit to Prof. HUNG-YI LEE"
   ]
  },
  {
   "cell_type": "code",
   "execution_count": 7,
   "metadata": {},
   "outputs": [],
   "source": [
    "def train_step(data):\n",
    "    D_loss = None; G_loss = None\n",
    "    for _ in range(D_REPEAT):\n",
    "        D_loss = train_D(data)\n",
    "    \n",
    "    G_loss = train_G(data)\n",
    "    \n",
    "    return D_loss, G_loss\n",
    "\n",
    "# This decorator implies we're using the Graph\n",
    "# So it can run in Tensorflow backend instead of Python\n",
    "# A lot Faster!!\n",
    "@tf.function\n",
    "def train_D(data):\n",
    "    def gradient_penalty(real_data, gen_data):\n",
    "        cross_samples = tf.random.uniform([real_data.shape[0], 2], minval=real_data, maxval=gen_data)\n",
    "        with tf.GradientTape() as tape:\n",
    "            tape.watch(cross_samples)\n",
    "            out = D(cross_samples, training=True)\n",
    "        grads = tape.gradient(out, [cross_samples])\n",
    "        # The epsilon(small number) 1e-12 is require to prevent inf norm in Tensorflow.\n",
    "        # For example, when x = 0, d(D(x))/dx would go infinity\n",
    "        norm = tf.sqrt(tf.reduce_sum(tf.square(grads), axis=-1) + 1e-12)\n",
    "        return tf.reduce_mean((norm - 1)**2)\n",
    "    \n",
    "    noise = tf.random.normal([data.shape[0], 2], mean=(0., -.4), stddev=(.3, .1))\n",
    "#     noise = tf.random.uniform([data.shape[0], 2], minval=(-1., -1.), maxval=(1., 0.))\n",
    "    with tf.GradientTape() as D_tape:\n",
    "        G_data = G(noise, training=False)\n",
    "        real_output = D(data, training=True)\n",
    "        fake_output = D(G_data, training=False)\n",
    "        \n",
    "        D_loss = discriminator_loss(real_output, fake_output)\n",
    "        D_loss += GP_WEIGHT*gradient_penalty(data, G_data)\n",
    "    \n",
    "    D_grads = D_tape.gradient(D_loss, D.trainable_variables)\n",
    "    D_optimizer.apply_gradients(zip(D_grads, D.trainable_variables))\n",
    "    return D_loss\n",
    "\n",
    "@tf.function\n",
    "def train_G(data):\n",
    "    noise = tf.random.normal([data.shape[0], 2], mean=(0., -.4), stddev=(.3, .1))\n",
    "#     noise = tf.random.uniform([data.shape[0], 2], minval=(-1., -1.), maxval=(1., 0.))\n",
    "    with tf.GradientTape() as G_tape:\n",
    "        G_data = G(noise, training=True)\n",
    "        fake_output = D(G_data, training=False)\n",
    "\n",
    "        G_loss = generator_loss(fake_output)\n",
    "        \n",
    "    G_grads = G_tape.gradient(G_loss, G.trainable_variables)\n",
    "    G_optimizer.apply_gradients(zip(G_grads, G.trainable_variables))\n",
    "    return G_loss"
   ]
  },
  {
   "cell_type": "code",
   "execution_count": 8,
   "metadata": {},
   "outputs": [],
   "source": [
    "from tqdm import tqdm\n",
    "from IPython.display import clear_output\n",
    "fix_samples = tf.random.normal([1000, 2], mean=(0., -.4), stddev=(.3, .1))\n",
    "# fix_samples = tf.random.uniform([1000, 2], minval=(-1., -1.), maxval=(1., 0.))\n",
    "\n",
    "def train(dataset, epochs):\n",
    "    for epoch in range(epochs):\n",
    "        D_loss = None; G_loss = None\n",
    "        for batch in dataset:\n",
    "            D_loss, G_loss = train_step(batch)\n",
    "            \n",
    "        if epoch % 5 == 0:\n",
    "            clear_output()\n",
    "            print(f'Epoch: {epoch}')\n",
    "            print(f'Discrminator: {D_loss: .4f}, Generator: {G_loss: .4f}')\n",
    "            out = G(fix_samples, training=False)\n",
    "            plt.scatter(out[:, 0], out[:, 1])\n",
    "            plt.show()"
   ]
  },
  {
   "cell_type": "code",
   "execution_count": 9,
   "metadata": {},
   "outputs": [
    {
     "name": "stdout",
     "output_type": "stream",
     "text": [
      "Epoch: 995\n",
      "Discrminator:  0.0489, Generator:  0.0011\n"
     ]
    },
    {
     "data": {
      "image/png": "[encoded data removed]",
      "text/plain": [
       "<Figure size 432x288 with 1 Axes>"
      ]
     },
     "metadata": {
      "needs_background": "light"
     },
     "output_type": "display_data"
    }
   ],
   "source": [
    "train(dataset, EPOCHS)"
   ]
  },
  {
   "cell_type": "code",
   "execution_count": null,
   "metadata": {},
   "outputs": [],
   "source": []
  }
 ],
 "metadata": {
  "kernelspec": {
   "display_name": "Python 3",
   "language": "python",
   "name": "python3"
  },
  "language_info": {
   "codemirror_mode": {
    "name": "ipython",
    "version": 3
   },
   "file_extension": ".py",
   "mimetype": "text/x-python",
   "name": "python",
   "nbconvert_exporter": "python",
   "pygments_lexer": "ipython3",
   "version": "3.6.8"
  }
 },
 "nbformat": 4,
 "nbformat_minor": 4
}
